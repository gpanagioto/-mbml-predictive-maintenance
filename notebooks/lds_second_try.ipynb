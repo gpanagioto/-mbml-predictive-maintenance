{
 "cells": [
  {
   "cell_type": "code",
   "execution_count": 1,
   "id": "28b99c5b",
   "metadata": {},
   "outputs": [],
   "source": [
    "import pandas as pd\n",
    "import numpy as np\n",
    "import matplotlib.pyplot as plt\n",
    "\n",
    "from sklearn.model_selection import train_test_split "
   ]
  },
  {
   "cell_type": "code",
   "execution_count": 2,
   "id": "9b6c43d7",
   "metadata": {},
   "outputs": [],
   "source": [
    "from matplotlib.lines import Line2D\n",
    "import seaborn as sns\n",
    "\n",
    "import numpyro\n",
    "import numpyro.distributions as dist\n",
    "from numpyro import handlers\n",
    "from numpyro.infer import MCMC, NUTS\n",
    "\n",
    "import jax\n",
    "import jax.numpy as jnp\n",
    "from jax import random, vmap\n",
    "from jax.scipy.special import logsumexp\n",
    "from jax import lax"
   ]
  },
  {
   "cell_type": "code",
   "execution_count": 3,
   "id": "faed2473",
   "metadata": {},
   "outputs": [],
   "source": [
    "DATA_PATH = '../data/processed/data_processed.csv'\n",
    "data = pd.read_csv(DATA_PATH)"
   ]
  },
  {
   "cell_type": "code",
   "execution_count": 4,
   "id": "ca43d97d",
   "metadata": {},
   "outputs": [
    {
     "data": {
      "text/plain": [
       "(290642, 42)"
      ]
     },
     "execution_count": 4,
     "metadata": {},
     "output_type": "execute_result"
    }
   ],
   "source": [
    "data.shape"
   ]
  },
  {
   "cell_type": "code",
   "execution_count": 5,
   "id": "bde3df13",
   "metadata": {},
   "outputs": [
    {
     "data": {
      "text/plain": [
       "Index(['Unnamed: 0', 'machineID', 'datetime', 'voltmean_3h', 'rotatemean_3h',\n",
       "       'pressuremean_3h', 'vibrationmean_3h', 'voltsd_3h', 'rotatesd_3h',\n",
       "       'pressuresd_3h', 'vibrationsd_3h', 'voltmean_24h', 'rotatemean_24h',\n",
       "       'pressuremean_24h', 'vibrationmean_24h', 'voltsd_24h', 'rotatesd_24h',\n",
       "       'pressuresd_24h', 'vibrationsd_24h', 'error1count', 'error2count',\n",
       "       'error3count', 'error4count', 'error5count', 'comp1', 'comp2', 'comp3',\n",
       "       'comp4', 'comp1_life', 'comp2_life', 'comp3_life', 'comp4_life', 'age',\n",
       "       'model_model1', 'model_model2', 'model_model3', 'model_model4',\n",
       "       'failure', 'comp1_fail', 'comp2_fail', 'comp3_fail', 'comp4_fail'],\n",
       "      dtype='object')"
      ]
     },
     "execution_count": 5,
     "metadata": {},
     "output_type": "execute_result"
    }
   ],
   "source": [
    "data.columns"
   ]
  },
  {
   "cell_type": "code",
   "execution_count": 6,
   "id": "f678e6fb",
   "metadata": {},
   "outputs": [],
   "source": [
    "data['datetime'] = pd.to_datetime(data.datetime)"
   ]
  },
  {
   "cell_type": "code",
   "execution_count": 7,
   "id": "39569d84",
   "metadata": {},
   "outputs": [],
   "source": [
    "data_per_id = data.loc[data.machineID==1]"
   ]
  },
  {
   "cell_type": "code",
   "execution_count": 8,
   "id": "d5476fed",
   "metadata": {},
   "outputs": [],
   "source": [
    "data_cols = ['voltmean_3h', 'rotatemean_3h',\n",
    "       'pressuremean_3h', 'vibrationmean_3h', 'voltsd_3h', 'rotatesd_3h',\n",
    "       'pressuresd_3h', 'vibrationsd_3h', 'voltmean_24h', 'rotatemean_24h',\n",
    "       'pressuremean_24h', 'vibrationmean_24h', 'voltsd_24h', 'rotatesd_24h',\n",
    "       'pressuresd_24h', 'vibrationsd_24h', 'error1count', 'error2count',\n",
    "       'error3count', 'error4count', 'error5count','model_model1', 'model_model2', 'model_model3', 'model_model4']\n",
    "\n",
    "target_cols = ['comp1_life', 'comp2_life', 'comp3_life', 'comp4_life']"
   ]
  },
  {
   "cell_type": "code",
   "execution_count": 9,
   "id": "0940db11",
   "metadata": {},
   "outputs": [],
   "source": [
    "N_features = len(data_cols)"
   ]
  },
  {
   "cell_type": "code",
   "execution_count": 10,
   "id": "05069a9a",
   "metadata": {},
   "outputs": [
    {
     "name": "stderr",
     "output_type": "stream",
     "text": [
      "/tmp/ipykernel_18106/2464161881.py:7: SettingWithCopyWarning: \n",
      "A value is trying to be set on a copy of a slice from a DataFrame\n",
      "\n",
      "See the caveats in the documentation: https://pandas.pydata.org/pandas-docs/stable/user_guide/indexing.html#returning-a-view-versus-a-copy\n",
      "  df_.dropna(inplace=True, axis=0)\n"
     ]
    }
   ],
   "source": [
    "X_df = data_per_id[data_cols]\n",
    "X = X_df.values\n",
    "\n",
    "y_df = [data_per_id[target_col] for target_col in target_cols]\n",
    "\n",
    "for df_ in y_df:\n",
    "    df_.dropna(inplace=True, axis=0)\n",
    "\n",
    "# y = np.array([y_df_i.values for y_df_i in y_df]).T"
   ]
  },
  {
   "cell_type": "code",
   "execution_count": 11,
   "id": "54c4770a",
   "metadata": {},
   "outputs": [],
   "source": [
    "a = data_per_id['comp1_life']"
   ]
  },
  {
   "cell_type": "code",
   "execution_count": 12,
   "id": "08a4371d",
   "metadata": {},
   "outputs": [],
   "source": [
    "a = a.dropna()"
   ]
  },
  {
   "cell_type": "code",
   "execution_count": 13,
   "id": "784179ca",
   "metadata": {},
   "outputs": [],
   "source": [
    "y = a.values"
   ]
  },
  {
   "cell_type": "code",
   "execution_count": 14,
   "id": "417e54a1",
   "metadata": {},
   "outputs": [],
   "source": [
    "train_size_pc = 0.85\n",
    "train_idx = np.floor(train_size_pc*X.shape[0]).astype(int)\n",
    "\n",
    "X_train = X[:train_idx]\n",
    "X_test = X[train_idx:]\n",
    "\n",
    "y_train = y[:train_idx]\n",
    "y_test = y[train_idx:]"
   ]
  },
  {
   "cell_type": "code",
   "execution_count": 15,
   "id": "3f5036ed",
   "metadata": {},
   "outputs": [],
   "source": [
    "N_train = y_train.shape[0]\n",
    "N_test = y_test.shape[0]"
   ]
  },
  {
   "cell_type": "code",
   "execution_count": 59,
   "id": "1428d278",
   "metadata": {},
   "outputs": [],
   "source": [
    "def f(carry, inputs):\n",
    "    \n",
    "    \n",
    "#     noise_t, x_prev = inputs\n",
    "\n",
    "    inpts = inputs\n",
    "    \n",
    "    \n",
    "    beta, z_prev, tau, R = carry\n",
    "    \n",
    "    p_u = R.shape[0]\n",
    "        \n",
    "    # Create B matrix\n",
    "    k = -1\n",
    "    ones_ = jnp.ones(beta.shape[0]-np.abs(k))\n",
    "    B = jnp.diag(ones_, k=k)\n",
    "    B = B.at[0].set(beta)\n",
    "    \n",
    "    # Create R_u matrix\n",
    "    R_u = jnp.zeros((beta.shape[0],inpts.shape[0]))\n",
    "    print(R_u.shape)\n",
    "    print(R.shape)\n",
    "    \n",
    "#     R_u = R_u.at[0].set(R)\n",
    "    \n",
    "    z_t = jnp.dot(B, z_prev) + jnp.dot(R, inpts) # + noise_t\n",
    "        \n",
    "    z_prev = z_t\n",
    "        \n",
    "    return (beta, z_prev, tau, R), z_t"
   ]
  },
  {
   "cell_type": "code",
   "execution_count": 62,
   "id": "e9c35511",
   "metadata": {},
   "outputs": [],
   "source": [
    "def model(T, T_forecast, n_states=4, obs=None, inputs=None, n_previous=1):\n",
    "    \"\"\"\n",
    "    Define priors over beta, tau, sigma, z_1 (keep the shapes in mind)\n",
    "    \"\"\"\n",
    "    beta = numpyro.sample(name=\"beta\", fn=dist.Normal(loc=jnp.zeros(n_states), scale=jnp.ones(n_states)))\n",
    "    tau = numpyro.sample(name=\"tau\", fn=dist.HalfCauchy(scale=jnp.ones(n_states)))\n",
    "    sigma = numpyro.sample(name=\"sigma\", fn=dist.HalfCauchy(scale=.1))\n",
    "    z_prev = numpyro.sample(name=\"z_1\", fn=dist.Normal(loc=jnp.zeros(n_states), scale=jnp.ones(n_states)))\n",
    "    \n",
    "    n,p = inputs.shape\n",
    "    \n",
    "    \n",
    "    R = numpyro.sample(name=\"R\", fn=dist.Normal(loc=jnp.zeros((n_states, p)), scale=jnp.ones((n_states, p))))\n",
    "    \n",
    "    \n",
    "    \"\"\"\n",
    "    Define LKJ prior\n",
    "    \"\"\"\n",
    "    L_Omega = numpyro.sample(\"L_Omega\", dist.LKJCholesky(n_states, 10.))\n",
    "    Sigma_lower = jnp.matmul(jnp.diag(jnp.sqrt(tau)), L_Omega) # lower cholesky factor of the covariance matrix\n",
    "#     noises = numpyro.sample(\"noises\", fn=dist.MultivariateNormal(loc=jnp.zeros(n_states), scale_tril=Sigma_lower), sample_shape=(T+T_forecast-n_previous,))\n",
    "        \n",
    "    \n",
    "\n",
    "    \n",
    "    \"\"\"\n",
    "    Propagate the dynamics forward using jax.lax.scan\n",
    "    \"\"\"\n",
    "    carry = (beta, z_prev, tau, R)\n",
    "    z_collection = [z_prev]\n",
    "    \n",
    "    \n",
    "    carry, zs_exp = lax.scan(f, carry, inputs, T+T_forecast)\n",
    "        \n",
    "    z_collection = jnp.concatenate((jnp.array(z_collection), zs_exp), axis=0)\n",
    "    \n",
    "    print(z_collection[:T, 0].shape)\n",
    "    \n",
    "    numpyro.sample(name=\"y_obs1\", fn=dist.Normal(loc=z_collection[:T, 0], scale=sigma), obs=obs)\n",
    "    numpyro.sample(name=\"y_pred1\", fn=dist.Normal(loc=z_collection[T:, 0], scale=sigma), obs=None)    \n",
    "\n",
    "    return z_collection"
   ]
  },
  {
   "cell_type": "code",
   "execution_count": 63,
   "id": "5bd7a566",
   "metadata": {},
   "outputs": [
    {
     "name": "stdout",
     "output_type": "stream",
     "text": [
      "(2476,)\n",
      "(2476,)\n",
      "(2476,)\n",
      "(2476,)\n"
     ]
    },
    {
     "ename": "ValueError",
     "evalue": "Normal distribution got invalid loc parameter.",
     "output_type": "error",
     "traceback": [
      "\u001b[0;31m---------------------------------------------------------------------------\u001b[0m",
      "\u001b[0;31mValueError\u001b[0m                                Traceback (most recent call last)",
      "Cell \u001b[0;32mIn[63], line 15\u001b[0m\n\u001b[1;32m     13\u001b[0m nuts_kernel \u001b[38;5;241m=\u001b[39m NUTS(model\u001b[38;5;241m=\u001b[39mmodel, max_tree_depth\u001b[38;5;241m=\u001b[39m\u001b[38;5;241m8\u001b[39m, step_size\u001b[38;5;241m=\u001b[39m\u001b[38;5;241m5e-3\u001b[39m, adapt_step_size\u001b[38;5;241m=\u001b[39m\u001b[38;5;28;01mFalse\u001b[39;00m)\n\u001b[1;32m     14\u001b[0m mcmc \u001b[38;5;241m=\u001b[39m MCMC(nuts_kernel, num_samples\u001b[38;5;241m=\u001b[39m\u001b[38;5;241m3000\u001b[39m, num_warmup\u001b[38;5;241m=\u001b[39m\u001b[38;5;241m1000\u001b[39m, num_chains\u001b[38;5;241m=\u001b[39m\u001b[38;5;241m1\u001b[39m)\n\u001b[0;32m---> 15\u001b[0m \u001b[43mmcmc\u001b[49m\u001b[38;5;241;43m.\u001b[39;49m\u001b[43mrun\u001b[49m\u001b[43m(\u001b[49m\u001b[43mrng_key_\u001b[49m\u001b[43m,\u001b[49m\u001b[43m \u001b[49m\u001b[43mT\u001b[49m\u001b[38;5;241;43m=\u001b[39;49m\u001b[43mT\u001b[49m\u001b[43m,\u001b[49m\u001b[43m \u001b[49m\u001b[43mT_forecast\u001b[49m\u001b[38;5;241;43m=\u001b[39;49m\u001b[43mT_forecast\u001b[49m\u001b[43m,\u001b[49m\u001b[43m \u001b[49m\u001b[43mn_states\u001b[49m\u001b[38;5;241;43m=\u001b[39;49m\u001b[43mn_states\u001b[49m\u001b[43m,\u001b[49m\u001b[43m \u001b[49m\u001b[43minputs\u001b[49m\u001b[38;5;241;43m=\u001b[39;49m\u001b[43mX_t\u001b[49m\u001b[43m,\u001b[49m\u001b[43m \u001b[49m\u001b[43mobs\u001b[49m\u001b[38;5;241;43m=\u001b[39;49m\u001b[43my_train\u001b[49m\u001b[43m,\u001b[49m\u001b[43m \u001b[49m\u001b[43mn_previous\u001b[49m\u001b[38;5;241;43m=\u001b[39;49m\u001b[43mn_previous\u001b[49m\u001b[43m)\u001b[49m\n",
      "File \u001b[0;32m~/mambaforge/envs/mbml/lib/python3.11/site-packages/numpyro/infer/mcmc.py:594\u001b[0m, in \u001b[0;36mMCMC.run\u001b[0;34m(self, rng_key, extra_fields, init_params, *args, **kwargs)\u001b[0m\n\u001b[1;32m    592\u001b[0m map_args \u001b[38;5;241m=\u001b[39m (rng_key, init_state, init_params)\n\u001b[1;32m    593\u001b[0m \u001b[38;5;28;01mif\u001b[39;00m \u001b[38;5;28mself\u001b[39m\u001b[38;5;241m.\u001b[39mnum_chains \u001b[38;5;241m==\u001b[39m \u001b[38;5;241m1\u001b[39m:\n\u001b[0;32m--> 594\u001b[0m     states_flat, last_state \u001b[38;5;241m=\u001b[39m \u001b[43mpartial_map_fn\u001b[49m\u001b[43m(\u001b[49m\u001b[43mmap_args\u001b[49m\u001b[43m)\u001b[49m\n\u001b[1;32m    595\u001b[0m     states \u001b[38;5;241m=\u001b[39m tree_map(\u001b[38;5;28;01mlambda\u001b[39;00m x: x[jnp\u001b[38;5;241m.\u001b[39mnewaxis, \u001b[38;5;241m.\u001b[39m\u001b[38;5;241m.\u001b[39m\u001b[38;5;241m.\u001b[39m], states_flat)\n\u001b[1;32m    596\u001b[0m \u001b[38;5;28;01melse\u001b[39;00m:\n",
      "File \u001b[0;32m~/mambaforge/envs/mbml/lib/python3.11/site-packages/numpyro/infer/mcmc.py:381\u001b[0m, in \u001b[0;36mMCMC._single_chain_mcmc\u001b[0;34m(self, init, args, kwargs, collect_fields)\u001b[0m\n\u001b[1;32m    379\u001b[0m rng_key, init_state, init_params \u001b[38;5;241m=\u001b[39m init\n\u001b[1;32m    380\u001b[0m \u001b[38;5;28;01mif\u001b[39;00m init_state \u001b[38;5;129;01mis\u001b[39;00m \u001b[38;5;28;01mNone\u001b[39;00m:\n\u001b[0;32m--> 381\u001b[0m     init_state \u001b[38;5;241m=\u001b[39m \u001b[38;5;28;43mself\u001b[39;49m\u001b[38;5;241;43m.\u001b[39;49m\u001b[43msampler\u001b[49m\u001b[38;5;241;43m.\u001b[39;49m\u001b[43minit\u001b[49m\u001b[43m(\u001b[49m\n\u001b[1;32m    382\u001b[0m \u001b[43m        \u001b[49m\u001b[43mrng_key\u001b[49m\u001b[43m,\u001b[49m\n\u001b[1;32m    383\u001b[0m \u001b[43m        \u001b[49m\u001b[38;5;28;43mself\u001b[39;49m\u001b[38;5;241;43m.\u001b[39;49m\u001b[43mnum_warmup\u001b[49m\u001b[43m,\u001b[49m\n\u001b[1;32m    384\u001b[0m \u001b[43m        \u001b[49m\u001b[43minit_params\u001b[49m\u001b[43m,\u001b[49m\n\u001b[1;32m    385\u001b[0m \u001b[43m        \u001b[49m\u001b[43mmodel_args\u001b[49m\u001b[38;5;241;43m=\u001b[39;49m\u001b[43margs\u001b[49m\u001b[43m,\u001b[49m\n\u001b[1;32m    386\u001b[0m \u001b[43m        \u001b[49m\u001b[43mmodel_kwargs\u001b[49m\u001b[38;5;241;43m=\u001b[39;49m\u001b[43mkwargs\u001b[49m\u001b[43m,\u001b[49m\n\u001b[1;32m    387\u001b[0m \u001b[43m    \u001b[49m\u001b[43m)\u001b[49m\n\u001b[1;32m    388\u001b[0m sample_fn, postprocess_fn \u001b[38;5;241m=\u001b[39m \u001b[38;5;28mself\u001b[39m\u001b[38;5;241m.\u001b[39m_get_cached_fns()\n\u001b[1;32m    389\u001b[0m diagnostics \u001b[38;5;241m=\u001b[39m (\n\u001b[1;32m    390\u001b[0m     \u001b[38;5;28;01mlambda\u001b[39;00m x: \u001b[38;5;28mself\u001b[39m\u001b[38;5;241m.\u001b[39msampler\u001b[38;5;241m.\u001b[39mget_diagnostics_str(x[\u001b[38;5;241m0\u001b[39m])\n\u001b[1;32m    391\u001b[0m     \u001b[38;5;28;01mif\u001b[39;00m rng_key\u001b[38;5;241m.\u001b[39mndim \u001b[38;5;241m==\u001b[39m \u001b[38;5;241m1\u001b[39m\n\u001b[1;32m    392\u001b[0m     \u001b[38;5;28;01melse\u001b[39;00m \u001b[38;5;124m\"\u001b[39m\u001b[38;5;124m\"\u001b[39m\n\u001b[1;32m    393\u001b[0m )  \u001b[38;5;66;03m# noqa: E731\u001b[39;00m\n",
      "File \u001b[0;32m~/mambaforge/envs/mbml/lib/python3.11/site-packages/numpyro/infer/hmc.py:706\u001b[0m, in \u001b[0;36mHMC.init\u001b[0;34m(self, rng_key, num_warmup, init_params, model_args, model_kwargs)\u001b[0m\n\u001b[1;32m    701\u001b[0m \u001b[38;5;66;03m# vectorized\u001b[39;00m\n\u001b[1;32m    702\u001b[0m \u001b[38;5;28;01melse\u001b[39;00m:\n\u001b[1;32m    703\u001b[0m     rng_key, rng_key_init_model \u001b[38;5;241m=\u001b[39m jnp\u001b[38;5;241m.\u001b[39mswapaxes(\n\u001b[1;32m    704\u001b[0m         vmap(random\u001b[38;5;241m.\u001b[39msplit)(rng_key), \u001b[38;5;241m0\u001b[39m, \u001b[38;5;241m1\u001b[39m\n\u001b[1;32m    705\u001b[0m     )\n\u001b[0;32m--> 706\u001b[0m init_params \u001b[38;5;241m=\u001b[39m \u001b[38;5;28;43mself\u001b[39;49m\u001b[38;5;241;43m.\u001b[39;49m\u001b[43m_init_state\u001b[49m\u001b[43m(\u001b[49m\n\u001b[1;32m    707\u001b[0m \u001b[43m    \u001b[49m\u001b[43mrng_key_init_model\u001b[49m\u001b[43m,\u001b[49m\u001b[43m \u001b[49m\u001b[43mmodel_args\u001b[49m\u001b[43m,\u001b[49m\u001b[43m \u001b[49m\u001b[43mmodel_kwargs\u001b[49m\u001b[43m,\u001b[49m\u001b[43m \u001b[49m\u001b[43minit_params\u001b[49m\n\u001b[1;32m    708\u001b[0m \u001b[43m\u001b[49m\u001b[43m)\u001b[49m\n\u001b[1;32m    709\u001b[0m \u001b[38;5;28;01mif\u001b[39;00m \u001b[38;5;28mself\u001b[39m\u001b[38;5;241m.\u001b[39m_potential_fn \u001b[38;5;129;01mand\u001b[39;00m init_params \u001b[38;5;129;01mis\u001b[39;00m \u001b[38;5;28;01mNone\u001b[39;00m:\n\u001b[1;32m    710\u001b[0m     \u001b[38;5;28;01mraise\u001b[39;00m \u001b[38;5;167;01mValueError\u001b[39;00m(\n\u001b[1;32m    711\u001b[0m         \u001b[38;5;124m\"\u001b[39m\u001b[38;5;124mValid value of `init_params` must be provided with\u001b[39m\u001b[38;5;124m\"\u001b[39m \u001b[38;5;124m\"\u001b[39m\u001b[38;5;124m `potential_fn`.\u001b[39m\u001b[38;5;124m\"\u001b[39m\n\u001b[1;32m    712\u001b[0m     )\n",
      "File \u001b[0;32m~/mambaforge/envs/mbml/lib/python3.11/site-packages/numpyro/infer/hmc.py:652\u001b[0m, in \u001b[0;36mHMC._init_state\u001b[0;34m(self, rng_key, model_args, model_kwargs, init_params)\u001b[0m\n\u001b[1;32m    650\u001b[0m \u001b[38;5;28;01mdef\u001b[39;00m \u001b[38;5;21m_init_state\u001b[39m(\u001b[38;5;28mself\u001b[39m, rng_key, model_args, model_kwargs, init_params):\n\u001b[1;32m    651\u001b[0m     \u001b[38;5;28;01mif\u001b[39;00m \u001b[38;5;28mself\u001b[39m\u001b[38;5;241m.\u001b[39m_model \u001b[38;5;129;01mis\u001b[39;00m \u001b[38;5;129;01mnot\u001b[39;00m \u001b[38;5;28;01mNone\u001b[39;00m:\n\u001b[0;32m--> 652\u001b[0m         init_params, potential_fn, postprocess_fn, model_trace \u001b[38;5;241m=\u001b[39m \u001b[43minitialize_model\u001b[49m\u001b[43m(\u001b[49m\n\u001b[1;32m    653\u001b[0m \u001b[43m            \u001b[49m\u001b[43mrng_key\u001b[49m\u001b[43m,\u001b[49m\n\u001b[1;32m    654\u001b[0m \u001b[43m            \u001b[49m\u001b[38;5;28;43mself\u001b[39;49m\u001b[38;5;241;43m.\u001b[39;49m\u001b[43m_model\u001b[49m\u001b[43m,\u001b[49m\n\u001b[1;32m    655\u001b[0m \u001b[43m            \u001b[49m\u001b[43mdynamic_args\u001b[49m\u001b[38;5;241;43m=\u001b[39;49m\u001b[38;5;28;43;01mTrue\u001b[39;49;00m\u001b[43m,\u001b[49m\n\u001b[1;32m    656\u001b[0m \u001b[43m            \u001b[49m\u001b[43minit_strategy\u001b[49m\u001b[38;5;241;43m=\u001b[39;49m\u001b[38;5;28;43mself\u001b[39;49m\u001b[38;5;241;43m.\u001b[39;49m\u001b[43m_init_strategy\u001b[49m\u001b[43m,\u001b[49m\n\u001b[1;32m    657\u001b[0m \u001b[43m            \u001b[49m\u001b[43mmodel_args\u001b[49m\u001b[38;5;241;43m=\u001b[39;49m\u001b[43mmodel_args\u001b[49m\u001b[43m,\u001b[49m\n\u001b[1;32m    658\u001b[0m \u001b[43m            \u001b[49m\u001b[43mmodel_kwargs\u001b[49m\u001b[38;5;241;43m=\u001b[39;49m\u001b[43mmodel_kwargs\u001b[49m\u001b[43m,\u001b[49m\n\u001b[1;32m    659\u001b[0m \u001b[43m            \u001b[49m\u001b[43mforward_mode_differentiation\u001b[49m\u001b[38;5;241;43m=\u001b[39;49m\u001b[38;5;28;43mself\u001b[39;49m\u001b[38;5;241;43m.\u001b[39;49m\u001b[43m_forward_mode_differentiation\u001b[49m\u001b[43m,\u001b[49m\n\u001b[1;32m    660\u001b[0m \u001b[43m        \u001b[49m\u001b[43m)\u001b[49m\n\u001b[1;32m    661\u001b[0m         \u001b[38;5;28;01mif\u001b[39;00m \u001b[38;5;28mself\u001b[39m\u001b[38;5;241m.\u001b[39m_init_fn \u001b[38;5;129;01mis\u001b[39;00m \u001b[38;5;28;01mNone\u001b[39;00m:\n\u001b[1;32m    662\u001b[0m             \u001b[38;5;28mself\u001b[39m\u001b[38;5;241m.\u001b[39m_init_fn, \u001b[38;5;28mself\u001b[39m\u001b[38;5;241m.\u001b[39m_sample_fn \u001b[38;5;241m=\u001b[39m hmc(\n\u001b[1;32m    663\u001b[0m                 potential_fn_gen\u001b[38;5;241m=\u001b[39mpotential_fn,\n\u001b[1;32m    664\u001b[0m                 kinetic_fn\u001b[38;5;241m=\u001b[39m\u001b[38;5;28mself\u001b[39m\u001b[38;5;241m.\u001b[39m_kinetic_fn,\n\u001b[1;32m    665\u001b[0m                 algo\u001b[38;5;241m=\u001b[39m\u001b[38;5;28mself\u001b[39m\u001b[38;5;241m.\u001b[39m_algo,\n\u001b[1;32m    666\u001b[0m             )\n",
      "File \u001b[0;32m~/mambaforge/envs/mbml/lib/python3.11/site-packages/numpyro/infer/util.py:679\u001b[0m, in \u001b[0;36minitialize_model\u001b[0;34m(rng_key, model, init_strategy, dynamic_args, model_args, model_kwargs, forward_mode_differentiation, validate_grad)\u001b[0m\n\u001b[1;32m    676\u001b[0m \u001b[38;5;28;01mif\u001b[39;00m device_get(\u001b[38;5;241m~\u001b[39mjnp\u001b[38;5;241m.\u001b[39mall(is_valid)):\n\u001b[1;32m    677\u001b[0m     \u001b[38;5;28;01mwith\u001b[39;00m numpyro\u001b[38;5;241m.\u001b[39mvalidation_enabled(), trace() \u001b[38;5;28;01mas\u001b[39;00m tr:\n\u001b[1;32m    678\u001b[0m         \u001b[38;5;66;03m# validate parameters\u001b[39;00m\n\u001b[0;32m--> 679\u001b[0m         \u001b[43msubstituted_model\u001b[49m\u001b[43m(\u001b[49m\u001b[38;5;241;43m*\u001b[39;49m\u001b[43mmodel_args\u001b[49m\u001b[43m,\u001b[49m\u001b[43m \u001b[49m\u001b[38;5;241;43m*\u001b[39;49m\u001b[38;5;241;43m*\u001b[39;49m\u001b[43mmodel_kwargs\u001b[49m\u001b[43m)\u001b[49m\n\u001b[1;32m    680\u001b[0m         \u001b[38;5;66;03m# validate values\u001b[39;00m\n\u001b[1;32m    681\u001b[0m         \u001b[38;5;28;01mfor\u001b[39;00m site \u001b[38;5;129;01min\u001b[39;00m tr\u001b[38;5;241m.\u001b[39mvalues():\n",
      "File \u001b[0;32m~/mambaforge/envs/mbml/lib/python3.11/site-packages/numpyro/primitives.py:105\u001b[0m, in \u001b[0;36mMessenger.__call__\u001b[0;34m(self, *args, **kwargs)\u001b[0m\n\u001b[1;32m    103\u001b[0m     \u001b[38;5;28;01mreturn\u001b[39;00m \u001b[38;5;28mself\u001b[39m\n\u001b[1;32m    104\u001b[0m \u001b[38;5;28;01mwith\u001b[39;00m \u001b[38;5;28mself\u001b[39m:\n\u001b[0;32m--> 105\u001b[0m     \u001b[38;5;28;01mreturn\u001b[39;00m \u001b[38;5;28;43mself\u001b[39;49m\u001b[38;5;241;43m.\u001b[39;49m\u001b[43mfn\u001b[49m\u001b[43m(\u001b[49m\u001b[38;5;241;43m*\u001b[39;49m\u001b[43margs\u001b[49m\u001b[43m,\u001b[49m\u001b[43m \u001b[49m\u001b[38;5;241;43m*\u001b[39;49m\u001b[38;5;241;43m*\u001b[39;49m\u001b[43mkwargs\u001b[49m\u001b[43m)\u001b[49m\n",
      "File \u001b[0;32m~/mambaforge/envs/mbml/lib/python3.11/site-packages/numpyro/primitives.py:105\u001b[0m, in \u001b[0;36mMessenger.__call__\u001b[0;34m(self, *args, **kwargs)\u001b[0m\n\u001b[1;32m    103\u001b[0m     \u001b[38;5;28;01mreturn\u001b[39;00m \u001b[38;5;28mself\u001b[39m\n\u001b[1;32m    104\u001b[0m \u001b[38;5;28;01mwith\u001b[39;00m \u001b[38;5;28mself\u001b[39m:\n\u001b[0;32m--> 105\u001b[0m     \u001b[38;5;28;01mreturn\u001b[39;00m \u001b[38;5;28;43mself\u001b[39;49m\u001b[38;5;241;43m.\u001b[39;49m\u001b[43mfn\u001b[49m\u001b[43m(\u001b[49m\u001b[38;5;241;43m*\u001b[39;49m\u001b[43margs\u001b[49m\u001b[43m,\u001b[49m\u001b[43m \u001b[49m\u001b[38;5;241;43m*\u001b[39;49m\u001b[38;5;241;43m*\u001b[39;49m\u001b[43mkwargs\u001b[49m\u001b[43m)\u001b[49m\n",
      "Cell \u001b[0;32mIn[62], line 39\u001b[0m, in \u001b[0;36mmodel\u001b[0;34m(T, T_forecast, n_states, obs, inputs, n_previous)\u001b[0m\n\u001b[1;32m     35\u001b[0m z_collection \u001b[38;5;241m=\u001b[39m jnp\u001b[38;5;241m.\u001b[39mconcatenate((jnp\u001b[38;5;241m.\u001b[39marray(z_collection), zs_exp), axis\u001b[38;5;241m=\u001b[39m\u001b[38;5;241m0\u001b[39m)\n\u001b[1;32m     37\u001b[0m \u001b[38;5;28mprint\u001b[39m(z_collection[:T, \u001b[38;5;241m0\u001b[39m]\u001b[38;5;241m.\u001b[39mshape)\n\u001b[0;32m---> 39\u001b[0m numpyro\u001b[38;5;241m.\u001b[39msample(name\u001b[38;5;241m=\u001b[39m\u001b[38;5;124m\"\u001b[39m\u001b[38;5;124my_obs1\u001b[39m\u001b[38;5;124m\"\u001b[39m, fn\u001b[38;5;241m=\u001b[39m\u001b[43mdist\u001b[49m\u001b[38;5;241;43m.\u001b[39;49m\u001b[43mNormal\u001b[49m\u001b[43m(\u001b[49m\u001b[43mloc\u001b[49m\u001b[38;5;241;43m=\u001b[39;49m\u001b[43mz_collection\u001b[49m\u001b[43m[\u001b[49m\u001b[43m:\u001b[49m\u001b[43mT\u001b[49m\u001b[43m,\u001b[49m\u001b[43m \u001b[49m\u001b[38;5;241;43m0\u001b[39;49m\u001b[43m]\u001b[49m\u001b[43m,\u001b[49m\u001b[43m \u001b[49m\u001b[43mscale\u001b[49m\u001b[38;5;241;43m=\u001b[39;49m\u001b[43msigma\u001b[49m\u001b[43m)\u001b[49m, obs\u001b[38;5;241m=\u001b[39mobs)\n\u001b[1;32m     40\u001b[0m numpyro\u001b[38;5;241m.\u001b[39msample(name\u001b[38;5;241m=\u001b[39m\u001b[38;5;124m\"\u001b[39m\u001b[38;5;124my_pred1\u001b[39m\u001b[38;5;124m\"\u001b[39m, fn\u001b[38;5;241m=\u001b[39mdist\u001b[38;5;241m.\u001b[39mNormal(loc\u001b[38;5;241m=\u001b[39mz_collection[T:, \u001b[38;5;241m0\u001b[39m], scale\u001b[38;5;241m=\u001b[39msigma), obs\u001b[38;5;241m=\u001b[39m\u001b[38;5;28;01mNone\u001b[39;00m)    \n\u001b[1;32m     42\u001b[0m \u001b[38;5;28;01mreturn\u001b[39;00m z_collection\n",
      "File \u001b[0;32m~/mambaforge/envs/mbml/lib/python3.11/site-packages/numpyro/distributions/distribution.py:99\u001b[0m, in \u001b[0;36mDistributionMeta.__call__\u001b[0;34m(cls, *args, **kwargs)\u001b[0m\n\u001b[1;32m     97\u001b[0m     \u001b[38;5;28;01mif\u001b[39;00m result \u001b[38;5;129;01mis\u001b[39;00m \u001b[38;5;129;01mnot\u001b[39;00m \u001b[38;5;28;01mNone\u001b[39;00m:\n\u001b[1;32m     98\u001b[0m         \u001b[38;5;28;01mreturn\u001b[39;00m result\n\u001b[0;32m---> 99\u001b[0m \u001b[38;5;28;01mreturn\u001b[39;00m \u001b[38;5;28;43msuper\u001b[39;49m\u001b[43m(\u001b[49m\u001b[43m)\u001b[49m\u001b[38;5;241;43m.\u001b[39;49m\u001b[38;5;21;43m__call__\u001b[39;49m\u001b[43m(\u001b[49m\u001b[38;5;241;43m*\u001b[39;49m\u001b[43margs\u001b[49m\u001b[43m,\u001b[49m\u001b[43m \u001b[49m\u001b[38;5;241;43m*\u001b[39;49m\u001b[38;5;241;43m*\u001b[39;49m\u001b[43mkwargs\u001b[49m\u001b[43m)\u001b[49m\n",
      "File \u001b[0;32m~/mambaforge/envs/mbml/lib/python3.11/site-packages/numpyro/distributions/continuous.py:2003\u001b[0m, in \u001b[0;36mNormal.__init__\u001b[0;34m(self, loc, scale, validate_args)\u001b[0m\n\u001b[1;32m   2001\u001b[0m \u001b[38;5;28mself\u001b[39m\u001b[38;5;241m.\u001b[39mloc, \u001b[38;5;28mself\u001b[39m\u001b[38;5;241m.\u001b[39mscale \u001b[38;5;241m=\u001b[39m promote_shapes(loc, scale)\n\u001b[1;32m   2002\u001b[0m batch_shape \u001b[38;5;241m=\u001b[39m lax\u001b[38;5;241m.\u001b[39mbroadcast_shapes(jnp\u001b[38;5;241m.\u001b[39mshape(loc), jnp\u001b[38;5;241m.\u001b[39mshape(scale))\n\u001b[0;32m-> 2003\u001b[0m \u001b[38;5;28;43msuper\u001b[39;49m\u001b[43m(\u001b[49m\u001b[43mNormal\u001b[49m\u001b[43m,\u001b[49m\u001b[43m \u001b[49m\u001b[38;5;28;43mself\u001b[39;49m\u001b[43m)\u001b[49m\u001b[38;5;241;43m.\u001b[39;49m\u001b[38;5;21;43m__init__\u001b[39;49m\u001b[43m(\u001b[49m\n\u001b[1;32m   2004\u001b[0m \u001b[43m    \u001b[49m\u001b[43mbatch_shape\u001b[49m\u001b[38;5;241;43m=\u001b[39;49m\u001b[43mbatch_shape\u001b[49m\u001b[43m,\u001b[49m\u001b[43m \u001b[49m\u001b[43mvalidate_args\u001b[49m\u001b[38;5;241;43m=\u001b[39;49m\u001b[43mvalidate_args\u001b[49m\n\u001b[1;32m   2005\u001b[0m \u001b[43m\u001b[49m\u001b[43m)\u001b[49m\n",
      "File \u001b[0;32m~/mambaforge/envs/mbml/lib/python3.11/site-packages/numpyro/distributions/distribution.py:175\u001b[0m, in \u001b[0;36mDistribution.__init__\u001b[0;34m(self, batch_shape, event_shape, validate_args)\u001b[0m\n\u001b[1;32m    173\u001b[0m         \u001b[38;5;28;01mif\u001b[39;00m not_jax_tracer(is_valid):\n\u001b[1;32m    174\u001b[0m             \u001b[38;5;28;01mif\u001b[39;00m \u001b[38;5;129;01mnot\u001b[39;00m np\u001b[38;5;241m.\u001b[39mall(is_valid):\n\u001b[0;32m--> 175\u001b[0m                 \u001b[38;5;28;01mraise\u001b[39;00m \u001b[38;5;167;01mValueError\u001b[39;00m(\n\u001b[1;32m    176\u001b[0m                     \u001b[38;5;124m\"\u001b[39m\u001b[38;5;132;01m{}\u001b[39;00m\u001b[38;5;124m distribution got invalid \u001b[39m\u001b[38;5;132;01m{}\u001b[39;00m\u001b[38;5;124m parameter.\u001b[39m\u001b[38;5;124m\"\u001b[39m\u001b[38;5;241m.\u001b[39mformat(\n\u001b[1;32m    177\u001b[0m                         \u001b[38;5;28mself\u001b[39m\u001b[38;5;241m.\u001b[39m\u001b[38;5;18m__class__\u001b[39m\u001b[38;5;241m.\u001b[39m\u001b[38;5;18m__name__\u001b[39m, param\n\u001b[1;32m    178\u001b[0m                     )\n\u001b[1;32m    179\u001b[0m                 )\n\u001b[1;32m    180\u001b[0m \u001b[38;5;28msuper\u001b[39m(Distribution, \u001b[38;5;28mself\u001b[39m)\u001b[38;5;241m.\u001b[39m\u001b[38;5;21m__init__\u001b[39m()\n",
      "\u001b[0;31mValueError\u001b[0m: Normal distribution got invalid loc parameter."
     ]
    }
   ],
   "source": [
    "rng_key = random.PRNGKey(0)\n",
    "rng_key, rng_key_ = random.split(rng_key)\n",
    "\n",
    "n_states = 14\n",
    "n_previous = 1\n",
    "T = N_train\n",
    "T_forecast = N_test\n",
    "\n",
    "\n",
    "X_t = np.concatenate([X_train[n_previous:,:], X_test], axis=0)\n",
    "\n",
    "\n",
    "nuts_kernel = NUTS(model=model, max_tree_depth=8, step_size=5e-3, adapt_step_size=False)\n",
    "mcmc = MCMC(nuts_kernel, num_samples=3000, num_warmup=1000, num_chains=1)\n",
    "mcmc.run(rng_key_, T=T, T_forecast=T_forecast, n_states=n_states, inputs=X_t, obs=y_train, n_previous=n_previous)"
   ]
  },
  {
   "cell_type": "code",
   "execution_count": null,
   "id": "8127f169",
   "metadata": {},
   "outputs": [],
   "source": [
    "y_train.shape"
   ]
  },
  {
   "cell_type": "code",
   "execution_count": null,
   "id": "7cd85573",
   "metadata": {},
   "outputs": [],
   "source": [
    "mcmc.print_summary()"
   ]
  },
  {
   "cell_type": "code",
   "execution_count": null,
   "id": "dc78f658",
   "metadata": {},
   "outputs": [],
   "source": [
    "samples_ = mcmc.get_samples()"
   ]
  },
  {
   "cell_type": "code",
   "execution_count": null,
   "id": "8a67b7a6",
   "metadata": {},
   "outputs": [],
   "source": [
    "plt.plot(samples_['y_pred1'].mean(axis=0))\n",
    "plt.plot(y_test[:,0])\n",
    "plt.show()"
   ]
  },
  {
   "cell_type": "code",
   "execution_count": null,
   "id": "5da43f65",
   "metadata": {},
   "outputs": [],
   "source": []
  }
 ],
 "metadata": {
  "kernelspec": {
   "display_name": "Python 3 (ipykernel)",
   "language": "python",
   "name": "python3"
  },
  "language_info": {
   "codemirror_mode": {
    "name": "ipython",
    "version": 3
   },
   "file_extension": ".py",
   "mimetype": "text/x-python",
   "name": "python",
   "nbconvert_exporter": "python",
   "pygments_lexer": "ipython3",
   "version": "3.11.0"
  }
 },
 "nbformat": 4,
 "nbformat_minor": 5
}
