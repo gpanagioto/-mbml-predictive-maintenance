{
 "cells": [
  {
   "cell_type": "code",
   "execution_count": 1,
   "id": "f0e4d804",
   "metadata": {},
   "outputs": [],
   "source": [
    "import pandas as pd\n",
    "import numpy as np\n",
    "import matplotlib.pyplot as plt\n",
    "\n",
    "from pathlib import Path\n",
    "\n",
    "from sklearn.model_selection import train_test_split\n",
    "\n",
    "import torch\n",
    "\n",
    "import seaborn as sns\n",
    "\n",
    "import pyro\n",
    "import pyro.distributions as dist\n",
    "from pyro.contrib.autoguide import AutoDiagonalNormal, AutoMultivariateNormal\n",
    "from pyro.infer import MCMC, NUTS, HMC, SVI, Trace_ELBO\n",
    "from pyro.optim import Adam, ClippedAdam"
   ]
  },
  {
   "cell_type": "code",
   "execution_count": 2,
   "id": "1d055e52",
   "metadata": {},
   "outputs": [],
   "source": [
    "data_path = Path('../data/processed/data_processed.csv')\n",
    "\n",
    "data = pd.read_csv(data_path.as_posix())"
   ]
  },
  {
   "cell_type": "code",
   "execution_count": 3,
   "id": "de39ebd5",
   "metadata": {},
   "outputs": [
    {
     "data": {
      "text/plain": [
       "Index(['Unnamed: 0', 'machineID', 'datetime', 'voltmean_3h', 'rotatemean_3h',\n",
       "       'pressuremean_3h', 'vibrationmean_3h', 'voltsd_3h', 'rotatesd_3h',\n",
       "       'pressuresd_3h', 'vibrationsd_3h', 'voltmean_24h', 'rotatemean_24h',\n",
       "       'pressuremean_24h', 'vibrationmean_24h', 'voltsd_24h', 'rotatesd_24h',\n",
       "       'pressuresd_24h', 'vibrationsd_24h', 'error1count', 'error2count',\n",
       "       'error3count', 'error4count', 'error5count', 'comp1', 'comp2', 'comp3',\n",
       "       'comp4', 'comp1_life', 'comp2_life', 'comp3_life', 'comp4_life', 'age',\n",
       "       'model_model1', 'model_model2', 'model_model3', 'model_model4',\n",
       "       'failure', 'comp1_fail', 'comp2_fail', 'comp3_fail', 'comp4_fail'],\n",
       "      dtype='object')"
      ]
     },
     "execution_count": 3,
     "metadata": {},
     "output_type": "execute_result"
    }
   ],
   "source": [
    "data.columns"
   ]
  },
  {
   "cell_type": "code",
   "execution_count": 4,
   "id": "9c926a05",
   "metadata": {},
   "outputs": [],
   "source": [
    "data.drop(['Unnamed: 0'], axis=1, inplace=True)\n",
    "data.dropna(axis=0, inplace=True)"
   ]
  },
  {
   "cell_type": "code",
   "execution_count": 5,
   "id": "4d439da9",
   "metadata": {},
   "outputs": [],
   "source": [
    "data['datetime'] = pd.to_datetime(data['datetime'])"
   ]
  },
  {
   "cell_type": "markdown",
   "id": "aff28058",
   "metadata": {},
   "source": [
    "Try linear regression with one target variable, the continuous variable `comp1_life`:"
   ]
  },
  {
   "cell_type": "code",
   "execution_count": 6,
   "id": "04bc242c",
   "metadata": {},
   "outputs": [],
   "source": [
    "cols = ['voltmean_3h', 'rotatemean_3h',\n",
    "       'pressuremean_3h', 'vibrationmean_3h', 'voltsd_3h', 'rotatesd_3h',\n",
    "       'pressuresd_3h', 'vibrationsd_3h', 'voltmean_24h', 'rotatemean_24h',\n",
    "       'pressuremean_24h', 'vibrationmean_24h', 'voltsd_24h', 'rotatesd_24h',\n",
    "       'pressuresd_24h', 'vibrationsd_24h', 'error1count', 'error2count',\n",
    "       'error3count', 'error4count', 'error5count','age',\n",
    "       'model_model1', 'model_model2', 'model_model3', 'model_model4','comp1_life']\n",
    "\n",
    "data_tst = data[cols]"
   ]
  },
  {
   "cell_type": "code",
   "execution_count": 7,
   "id": "748fbce0",
   "metadata": {},
   "outputs": [],
   "source": [
    "X = data_tst.to_numpy()\n",
    "\n",
    "# Keep the last column as target y\n",
    "y = X[:,-1]\n",
    "X = X[:,:-1]"
   ]
  },
  {
   "cell_type": "code",
   "execution_count": 8,
   "id": "40df7b98",
   "metadata": {},
   "outputs": [],
   "source": [
    "def model(X, obs=None):\n",
    "    alpha = pyro.sample(\"alpha\", dist.Normal(0., 1.))                   # Prior for the bias/intercept\n",
    "    beta  = pyro.sample(\"beta\", dist.Normal(torch.zeros(X.shape[1]), \n",
    "                                            torch.ones(X.shape[1])).to_event())    # Priors for the regression coeffcients\n",
    "    sigma = pyro.sample(\"sigma\", dist.HalfCauchy(5.))                   # Prior for the variance\n",
    "    \n",
    "    with pyro.plate(\"data\"):\n",
    "        y = pyro.sample(\"y\", dist.Normal(alpha + X.matmul(beta), sigma), obs=obs)\n",
    "      \n",
    "    return y"
   ]
  },
  {
   "cell_type": "code",
   "execution_count": 9,
   "id": "db9094f8",
   "metadata": {},
   "outputs": [],
   "source": [
    "X_train, X_test, y_train, y_test = train_test_split(X, y, test_size=0.2, random_state=0)"
   ]
  },
  {
   "cell_type": "code",
   "execution_count": 10,
   "id": "21a0c1df",
   "metadata": {},
   "outputs": [],
   "source": [
    "# # Prepare data for Pyro model\n",
    "# X_train_small = torch.tensor(X[:100,:]).float()\n",
    "# y_train_small = torch.tensor(y[:100]).float()"
   ]
  },
  {
   "cell_type": "code",
   "execution_count": 11,
   "id": "9e4b71db",
   "metadata": {},
   "outputs": [],
   "source": [
    "# # Run inference in Pyro\n",
    "# nuts_kernel = NUTS(model)\n",
    "# mcmc = MCMC(nuts_kernel, num_samples=1000, warmup_steps=200, num_chains=1)\n",
    "# mcmc.run(X_train_small, y_train_small)\n",
    "\n",
    "# # Show summary of inference results\n",
    "# mcmc.summary()"
   ]
  },
  {
   "cell_type": "code",
   "execution_count": 12,
   "id": "cf1e4ec8",
   "metadata": {},
   "outputs": [],
   "source": [
    "# # Extract samples from posterior\n",
    "# posterior_samples = mcmc.get_samples()\n",
    "\n",
    "# sns.kdeplot(posterior_samples[\"alpha\"])\n",
    "# sns.kdeplot(posterior_samples[\"sigma\"])\n",
    "\n",
    "# # Alternative\n",
    "# #sns.histplot(data=posterior_samples[\"alpha\"], kde=True, stat='density', color=next(palette), element=\"step\")\n",
    "# #sns.histplot(data=posterior_samples[\"sigma\"], kde=True, stat='density', color=next(palette), element=\"step\")\n",
    "\n",
    "# plt.legend([\"alpha\", \"sigma\"])\n",
    "# plt.axis([-2,2,0,35])\n",
    "# plt.show()"
   ]
  },
  {
   "cell_type": "code",
   "execution_count": null,
   "id": "e1e7f63e",
   "metadata": {},
   "outputs": [],
   "source": []
  },
  {
   "cell_type": "code",
   "execution_count": 13,
   "id": "4302cab2",
   "metadata": {},
   "outputs": [],
   "source": [
    "# Prepare data for Pyro model\n",
    "X_train_torch = torch.tensor(X[:,:100]).float()\n",
    "y_train_torch = torch.tensor(y[100]).float()"
   ]
  },
  {
   "cell_type": "code",
   "execution_count": 14,
   "id": "02cda266",
   "metadata": {},
   "outputs": [],
   "source": [
    "# Define guide function\n",
    "guide = AutoMultivariateNormal(model)\n",
    "\n",
    "# Reset parameter values\n",
    "pyro.clear_param_store()"
   ]
  },
  {
   "cell_type": "code",
   "execution_count": 15,
   "id": "bc3282ad",
   "metadata": {},
   "outputs": [],
   "source": [
    "# Define the number of optimization steps\n",
    "n_steps = 4000\n",
    "\n",
    "# Setup the optimizer\n",
    "adam_params = {\"lr\": 0.001} # learning rate (lr) of optimizer\n",
    "optimizer = ClippedAdam(adam_params)\n",
    "\n",
    "# Setup the inference algorithm\n",
    "elbo = Trace_ELBO(num_particles=1)\n",
    "svi = SVI(model, guide, optimizer, loss=elbo)"
   ]
  },
  {
   "cell_type": "code",
   "execution_count": 16,
   "id": "30efaaad",
   "metadata": {},
   "outputs": [
    {
     "name": "stdout",
     "output_type": "stream",
     "text": [
      "[0] ELBO: 25189711.6\n",
      "[100] ELBO: 1871829.4\n",
      "[200] ELBO: 1496215.8\n",
      "[300] ELBO: 241229.6\n",
      "[400] ELBO: 43519.3\n",
      "[500] ELBO: 150411.1\n",
      "[600] ELBO: 190689.0\n",
      "[700] ELBO: 156497.7\n",
      "[800] ELBO: 89750.5\n",
      "[900] ELBO: 30571.6\n",
      "[1000] ELBO: 25440.1\n",
      "[1100] ELBO: 20649.5\n",
      "[1200] ELBO: 19665.5\n",
      "[1300] ELBO: 36276.2\n",
      "[1400] ELBO: 19229.0\n",
      "[1500] ELBO: 19562.7\n",
      "[1600] ELBO: 18231.4\n",
      "[1700] ELBO: 24253.6\n",
      "[1800] ELBO: 19902.3\n",
      "[1900] ELBO: 17668.4\n",
      "[2000] ELBO: 19205.4\n",
      "[2100] ELBO: 17595.3\n",
      "[2200] ELBO: 17395.0\n",
      "[2300] ELBO: 17072.0\n",
      "[2400] ELBO: 17013.5\n",
      "[2500] ELBO: 16090.8\n",
      "[2600] ELBO: 16401.9\n",
      "[2700] ELBO: 16811.6\n",
      "[2800] ELBO: 17137.6\n",
      "[2900] ELBO: 16975.3\n",
      "[3000] ELBO: 15573.1\n",
      "[3100] ELBO: 14703.6\n",
      "[3200] ELBO: 15611.2\n",
      "[3300] ELBO: 16324.3\n",
      "[3400] ELBO: 15193.5\n",
      "[3500] ELBO: 15147.2\n",
      "[3600] ELBO: 15462.6\n",
      "[3700] ELBO: 15634.4\n",
      "[3800] ELBO: 13765.9\n",
      "[3900] ELBO: 16764.1\n"
     ]
    }
   ],
   "source": [
    "# Do gradient steps\n",
    "for step in range(n_steps):\n",
    "    elbo = svi.step(X_train_torch, y_train_torch)\n",
    "    if step % 100 == 0:\n",
    "        print(\"[%d] ELBO: %.1f\" % (step, elbo))"
   ]
  },
  {
   "cell_type": "code",
   "execution_count": 17,
   "id": "1df45f7e",
   "metadata": {},
   "outputs": [],
   "source": [
    "from pyro.infer import Predictive\n",
    "\n",
    "predictive = Predictive(model, guide=guide, num_samples=1000,\n",
    "                        return_sites=(\"alpha\", \"beta\", \"sigma\"))\n",
    "samples = predictive(X_train_torch, y_train_torch)"
   ]
  },
  {
   "cell_type": "code",
   "execution_count": 18,
   "id": "c634e827",
   "metadata": {},
   "outputs": [],
   "source": [
    "y_std = y_train.std()\n",
    "y_mean = y_train.mean()"
   ]
  },
  {
   "cell_type": "code",
   "execution_count": 19,
   "id": "0c00be46",
   "metadata": {},
   "outputs": [],
   "source": [
    "def compute_error(trues, predicted):\n",
    "    corr = np.corrcoef(predicted, trues)[0,1]\n",
    "    mae = np.mean(np.abs(predicted - trues))\n",
    "    rae = np.sum(np.abs(predicted - trues)) / np.sum(np.abs(trues - np.mean(trues)))\n",
    "    rmse = np.sqrt(np.mean((predicted - trues)**2))\n",
    "    r2 = max(0, 1 - np.sum((trues-predicted)**2) / np.sum((trues - np.mean(trues))**2))\n",
    "    return corr, mae, rae, rmse, r2"
   ]
  },
  {
   "cell_type": "code",
   "execution_count": 20,
   "id": "cd5deb94",
   "metadata": {},
   "outputs": [
    {
     "name": "stdout",
     "output_type": "stream",
     "text": [
      "CorrCoef: -0.072\n",
      "MAE: 1179.240\n",
      "RMSE: 1820.893\n",
      "R2: 0.000\n"
     ]
    }
   ],
   "source": [
    "alpha_samples = samples[\"alpha\"].detach().numpy()\n",
    "beta_samples = samples[\"beta\"].detach().numpy()\n",
    "y_hat = np.mean(alpha_samples.T + np.dot(X_test, beta_samples[:,0].T), axis=1)\n",
    "\n",
    "# convert back to the original scale\n",
    "preds = y_hat * y_std + y_mean\n",
    "y_true = y_test * y_std + y_mean\n",
    "\n",
    "corr, mae, rae, rmse, r2 = compute_error(y_true, preds)\n",
    "print(\"CorrCoef: %.3f\\nMAE: %.3f\\nRMSE: %.3f\\nR2: %.3f\" % (corr, mae, rmse, r2))\n"
   ]
  },
  {
   "cell_type": "code",
   "execution_count": 26,
   "id": "f5a6d943",
   "metadata": {},
   "outputs": [
    {
     "data": {
      "image/png": "[encoded data removed]",
      "text/plain": [
       "<Figure size 640x480 with 1 Axes>"
      ]
     },
     "metadata": {},
     "output_type": "display_data"
    }
   ],
   "source": [
    "plt.plot(y_true, 'b-', label='true')\n",
    "plt.plot(preds, 'r-.', label='pred')\n",
    "\n",
    "plt.legend()\n",
    "\n",
    "plt.show()"
   ]
  },
  {
   "cell_type": "code",
   "execution_count": null,
   "id": "1002d095",
   "metadata": {},
   "outputs": [],
   "source": []
  }
 ],
 "metadata": {
  "kernelspec": {
   "display_name": "Python 3 (ipykernel)",
   "language": "python",
   "name": "python3"
  },
  "language_info": {
   "codemirror_mode": {
    "name": "ipython",
    "version": 3
   },
   "file_extension": ".py",
   "mimetype": "text/x-python",
   "name": "python",
   "nbconvert_exporter": "python",
   "pygments_lexer": "ipython3",
   "version": "3.10.9"
  }
 },
 "nbformat": 4,
 "nbformat_minor": 5
}
