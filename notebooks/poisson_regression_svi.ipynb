{
 "cells": [
  {
   "cell_type": "code",
   "execution_count": null,
   "id": "f0e4d804",
   "metadata": {},
   "outputs": [],
   "source": [
    "import pandas as pd\n",
    "import numpy as np\n",
    "import matplotlib.pyplot as plt\n",
    "\n",
    "from pathlib import Path\n",
    "\n",
    "from sklearn.model_selection import train_test_split\n",
    "\n",
    "import torch\n",
    "\n",
    "import seaborn as sns\n",
    "\n",
    "import pyro\n",
    "import pyro.distributions as dist\n",
    "from pyro.contrib.autoguide import AutoDiagonalNormal, AutoMultivariateNormal\n",
    "from pyro.infer import MCMC, NUTS, HMC, SVI, Trace_ELBO\n",
    "from pyro.optim import Adam, ClippedAdam\n",
    "\n",
    "from tqdm.autonotebook import tqdm\n",
    "\n",
    "from IPython.display import clear_output"
   ]
  },
  {
   "cell_type": "code",
   "execution_count": null,
   "id": "1d055e52",
   "metadata": {},
   "outputs": [],
   "source": [
    "data_path = Path('../data/processed/data_processed.csv')\n",
    "\n",
    "data = pd.read_csv(data_path.as_posix())"
   ]
  },
  {
   "cell_type": "code",
   "execution_count": null,
   "id": "de39ebd5",
   "metadata": {},
   "outputs": [],
   "source": [
    "data.columns"
   ]
  },
  {
   "cell_type": "code",
   "execution_count": null,
   "id": "9c926a05",
   "metadata": {},
   "outputs": [],
   "source": [
    "data.drop(['Unnamed: 0'], axis=1, inplace=True)\n",
    "data.dropna(axis=0, inplace=True)"
   ]
  },
  {
   "cell_type": "code",
   "execution_count": null,
   "id": "4d439da9",
   "metadata": {},
   "outputs": [],
   "source": [
    "data['datetime'] = pd.to_datetime(data['datetime'])"
   ]
  },
  {
   "cell_type": "markdown",
   "id": "aff28058",
   "metadata": {},
   "source": [
    "Try linear regression with one target variable, the continuous variable `comp1_life`:"
   ]
  },
  {
   "cell_type": "code",
   "execution_count": null,
   "id": "04bc242c",
   "metadata": {},
   "outputs": [],
   "source": [
    "cols = ['voltmean_3h', 'rotatemean_3h',\n",
    "       'pressuremean_3h', 'vibrationmean_3h', 'voltsd_3h', 'rotatesd_3h',\n",
    "       'pressuresd_3h', 'vibrationsd_3h', 'voltmean_24h', 'rotatemean_24h',\n",
    "       'pressuremean_24h', 'vibrationmean_24h', 'voltsd_24h', 'rotatesd_24h',\n",
    "       'pressuresd_24h', 'vibrationsd_24h', 'error1count', 'error2count',\n",
    "       'error3count', 'error4count', 'error5count','age',\n",
    "       'model_model1', 'model_model2', 'model_model3', 'model_model4','comp2_life']\n",
    "\n",
    "data_tst = data[cols]"
   ]
  },
  {
   "cell_type": "code",
   "execution_count": null,
   "id": "e63d399d",
   "metadata": {},
   "outputs": [],
   "source": [
    "data_tst.shape"
   ]
  },
  {
   "cell_type": "code",
   "execution_count": null,
   "id": "748fbce0",
   "metadata": {},
   "outputs": [],
   "source": [
    "X = data_tst.to_numpy()\n",
    "\n",
    "# Keep the last column as target y\n",
    "y = X[:,-1]\n",
    "X = X[:,:-1]"
   ]
  },
  {
   "cell_type": "code",
   "execution_count": null,
   "id": "40df7b98",
   "metadata": {},
   "outputs": [],
   "source": [
    "def poisson_model(X, obs=None):\n",
    "    alpha = pyro.sample(\"alpha\", dist.Normal(0., 1.))                   # Prior for the bias/intercept\n",
    "    beta  = pyro.sample(\"beta\", dist.Normal(torch.zeros(X.shape[1]), \n",
    "                                            torch.ones(X.shape[1])).to_event())    # Priors for the regression coeffcients\n",
    "    \n",
    "    with pyro.plate(\"data\"):\n",
    "        y = pyro.sample(\"y\", dist.Poisson(torch.exp(alpha + X.matmul(beta))), obs=obs)\n",
    "        \n",
    "    return y"
   ]
  },
  {
   "cell_type": "code",
   "execution_count": null,
   "id": "23701a3b",
   "metadata": {},
   "outputs": [],
   "source": [
    "# standardize input features\n",
    "X_mean = X.mean(axis=0)\n",
    "X_std = X.std(axis=0)\n",
    "X = (X - X_mean) / X_std\n",
    "print(X.shape)"
   ]
  },
  {
   "cell_type": "code",
   "execution_count": null,
   "id": "05ff8c2c",
   "metadata": {},
   "outputs": [],
   "source": [
    "# standardize pickups\n",
    "y_mean = y.mean()\n",
    "y_std = y.std()\n",
    "y = (y - y_mean) / y_std\n",
    "print(y.shape)"
   ]
  },
  {
   "cell_type": "code",
   "execution_count": null,
   "id": "db9094f8",
   "metadata": {},
   "outputs": [],
   "source": [
    "train_perc = 0.80 # percentage of training data\n",
    "split_point = int(train_perc*len(y))\n",
    "perm = np.random.permutation(len(y))\n",
    "ix_train = perm[:split_point]\n",
    "ix_test = perm[split_point:]\n",
    "X_train = X[ix_train,:]\n",
    "X_test = X[ix_test,:]\n",
    "y_train = y[ix_train]\n",
    "y_test = y[ix_test]\n",
    "\n",
    "print(\"num train: %d\" % len(y_train))\n",
    "print(\"num test: %d\" % len(y_test))"
   ]
  },
  {
   "cell_type": "code",
   "execution_count": null,
   "id": "ad7dbbf8",
   "metadata": {},
   "outputs": [],
   "source": [
    "def compute_error(trues, predicted):\n",
    "    corr = np.corrcoef(predicted, trues)[0,1]\n",
    "    mae = np.mean(np.abs(predicted - trues))\n",
    "    rae = np.sum(np.abs(predicted - trues)) / np.sum(np.abs(trues - np.mean(trues)))\n",
    "    rmse = np.sqrt(np.mean((predicted - trues)**2))\n",
    "    r2 = max(0, 1 - np.sum((trues-predicted)**2) / np.sum((trues - np.mean(trues))**2))\n",
    "    return corr, mae, rae, rmse, r2"
   ]
  },
  {
   "cell_type": "code",
   "execution_count": null,
   "id": "4302cab2",
   "metadata": {},
   "outputs": [],
   "source": [
    "# Prepare data for Pyro model\n",
    "X_train_torch = torch.tensor(X_train).float()\n",
    "y_train_torch = torch.tensor(y_train).float()\n",
    "\n",
    "print(f\"X_train shape: {X_train.shape}\")\n",
    "print(f\"y_train shape: {y_train.shape}\")"
   ]
  },
  {
   "cell_type": "code",
   "execution_count": null,
   "id": "2470ffab",
   "metadata": {},
   "outputs": [],
   "source": [
    "# Prepare data for Pyro model, y_train_torch\n",
    "y_train_torch = torch.tensor(y_train * y_std + y_mean).int()"
   ]
  },
  {
   "cell_type": "code",
   "execution_count": null,
   "id": "02cda266",
   "metadata": {},
   "outputs": [],
   "source": [
    "# Define guide function\n",
    "guide = AutoDiagonalNormal(poisson_model)\n",
    "\n",
    "# Reset parameter values\n",
    "pyro.clear_param_store()"
   ]
  },
  {
   "cell_type": "code",
   "execution_count": null,
   "id": "bc3282ad",
   "metadata": {},
   "outputs": [],
   "source": [
    "# Define the number of optimization steps\n",
    "n_steps = 80000\n",
    "\n",
    "# Setup the optimizer\n",
    "adam_params = {\"lr\": 0.0001} # learning rate (lr) of optimizer\n",
    "optimizer = ClippedAdam(adam_params)\n",
    "\n",
    "# Setup the inference algorithm\n",
    "elbo = Trace_ELBO(num_particles=1)\n",
    "svi = SVI(poisson_model, guide, optimizer, loss=elbo)"
   ]
  },
  {
   "cell_type": "code",
   "execution_count": null,
   "id": "30efaaad",
   "metadata": {},
   "outputs": [],
   "source": [
    "# Do gradient steps\n",
    "for step in range(n_steps):\n",
    "    elbo = svi.step(X_train_torch, y_train_torch)\n",
    "    if step % 100 == 0:\n",
    "        print(\"[%d] ELBO: %.1f\" % (step, elbo))"
   ]
  },
  {
   "cell_type": "code",
   "execution_count": null,
   "id": "1df45f7e",
   "metadata": {},
   "outputs": [],
   "source": [
    "from pyro.infer import Predictive\n",
    "\n",
    "predictive = Predictive(poisson_model, guide=guide, num_samples=1000,\n",
    "                        return_sites=(\"alpha\", \"beta\", \"sigma\"))\n",
    "samples = predictive(X_train_torch, y_train_torch)"
   ]
  },
  {
   "cell_type": "code",
   "execution_count": null,
   "id": "bb5f97ea",
   "metadata": {},
   "outputs": [],
   "source": [
    "y_std, y_mean"
   ]
  },
  {
   "cell_type": "code",
   "execution_count": null,
   "id": "cd5deb94",
   "metadata": {},
   "outputs": [],
   "source": [
    "alpha_samples = samples[\"alpha\"].detach().numpy()\n",
    "beta_samples = samples[\"beta\"].detach().numpy()\n",
    "y_hat = np.mean(np.exp(alpha_samples.T + np.dot(X_test, beta_samples[:,0].T)), axis=1)\n",
    "\n",
    "# convert back to the original scale\n",
    "preds = y_hat # no need to do any conversion here because the Poisson model received untransformed y's\n",
    "y_true = y_test * y_std + y_mean\n",
    "\n",
    "corr, mae, rae, rmse, r2 = compute_error(y_true, preds)\n",
    "print(\"CorrCoef: %.3f\\nMAE: %.3f\\nRMSE: %.3f\\nR2: %.3f\" % (corr, mae, rmse, r2))"
   ]
  },
  {
   "cell_type": "code",
   "execution_count": null,
   "id": "f5a6d943",
   "metadata": {},
   "outputs": [],
   "source": [
    "fig = plt.figure(figsize=(20, 10))\n",
    "\n",
    "start = 300\n",
    "end = 400\n",
    "\n",
    "plt.plot(y_true[start:end], 'r.-', label='test')\n",
    "plt.plot(preds[start:end], 'b-', label='pred')\n",
    "\n",
    "plt.legend()\n",
    "\n",
    "plt.show()"
   ]
  },
  {
   "cell_type": "code",
   "execution_count": null,
   "id": "c92c1e65",
   "metadata": {},
   "outputs": [],
   "source": [
    "y_std, y_mean"
   ]
  },
  {
   "cell_type": "code",
   "execution_count": null,
   "id": "1002d095",
   "metadata": {},
   "outputs": [],
   "source": [
    "fig = plt.figure(figsize=(20, 10))\n",
    "\n",
    "start = 400\n",
    "end = 600\n",
    "\n",
    "plt.plot(y_test[start:end], 'r--', label='train')\n",
    "plt.plot(preds_train[start:end], 'b-', label='pred')\n",
    "\n",
    "plt.legend()\n",
    "\n",
    "plt.show()"
   ]
  },
  {
   "cell_type": "code",
   "execution_count": null,
   "id": "c4adf586",
   "metadata": {},
   "outputs": [],
   "source": []
  }
 ],
 "metadata": {
  "kernelspec": {
   "display_name": "mbml",
   "language": "python",
   "name": "mbml"
  },
  "language_info": {
   "codemirror_mode": {
    "name": "ipython",
    "version": 3
   },
   "file_extension": ".py",
   "mimetype": "text/x-python",
   "name": "python",
   "nbconvert_exporter": "python",
   "pygments_lexer": "ipython3",
   "version": "3.10.6"
  }
 },
 "nbformat": 4,
 "nbformat_minor": 5
}
