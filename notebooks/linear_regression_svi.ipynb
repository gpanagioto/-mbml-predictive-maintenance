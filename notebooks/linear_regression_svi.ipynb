{
 "cells": [
  {
   "cell_type": "code",
   "execution_count": null,
   "id": "f0e4d804",
   "metadata": {},
   "outputs": [],
   "source": [
    "import pandas as pd\n",
    "import numpy as np\n",
    "import matplotlib.pyplot as plt\n",
    "from pathlib import Path\n",
    "from sklearn.model_selection import train_test_split\n",
    "from pyro.infer import Predictive\n",
    "import torch\n",
    "import seaborn as sns\n",
    "import pyro\n",
    "import pyro.distributions as dist\n",
    "from pyro.contrib.autoguide import AutoDiagonalNormal, AutoMultivariateNormal\n",
    "from pyro.infer import MCMC, NUTS, HMC, SVI, Trace_ELBO\n",
    "from pyro.optim import ClippedAdam\n",
    "from tqdm.autonotebook import tqdm\n",
    "from IPython.display import clear_output\n",
    "import os"
   ]
  },
  {
   "cell_type": "code",
   "execution_count": null,
   "id": "d30dc1a8",
   "metadata": {},
   "outputs": [],
   "source": [
    "%load_ext autoreload\n",
    "%autoreload 2\n",
    "from __init__ import root_dir, data_path, src_path"
   ]
  },
  {
   "cell_type": "code",
   "execution_count": null,
   "id": "95b3bebe",
   "metadata": {},
   "outputs": [],
   "source": [
    "os.path.abspath(root_dir)"
   ]
  },
  {
   "cell_type": "code",
   "execution_count": null,
   "id": "76a72528",
   "metadata": {},
   "outputs": [],
   "source": [
    "%load_ext autoreload\n",
    "%autoreload 2\n",
    "from src.models.models import compute_error, model\n",
    "from src.visualization.visualize import true_vs_preds_plot"
   ]
  },
  {
   "cell_type": "code",
   "execution_count": null,
   "id": "1d055e52",
   "metadata": {},
   "outputs": [],
   "source": [
    "data = pd.read_csv(os.path.join(data_path,'processed','data_processed.csv'))"
   ]
  },
  {
   "cell_type": "code",
   "execution_count": null,
   "id": "de39ebd5",
   "metadata": {},
   "outputs": [],
   "source": [
    "data.columns"
   ]
  },
  {
   "cell_type": "code",
   "execution_count": null,
   "id": "9c926a05",
   "metadata": {},
   "outputs": [],
   "source": [
    "data.drop(['Unnamed: 0'], axis=1, inplace=True)\n",
    "data.dropna(axis=0, inplace=True)"
   ]
  },
  {
   "cell_type": "code",
   "execution_count": null,
   "id": "4d439da9",
   "metadata": {},
   "outputs": [],
   "source": [
    "data['datetime'] = pd.to_datetime(data['datetime'])"
   ]
  },
  {
   "cell_type": "markdown",
   "id": "aff28058",
   "metadata": {},
   "source": [
    "Try linear regression with one target variable, the continuous variable `comp1_life`:"
   ]
  },
  {
   "cell_type": "code",
   "execution_count": null,
   "id": "04bc242c",
   "metadata": {},
   "outputs": [],
   "source": [
    "cols = ['voltmean_3h', 'rotatemean_3h',\n",
    "       'pressuremean_3h', 'vibrationmean_3h', 'voltsd_3h', 'rotatesd_3h',\n",
    "       'pressuresd_3h', 'vibrationsd_3h', 'voltmean_24h', 'rotatemean_24h',\n",
    "       'pressuremean_24h', 'vibrationmean_24h', 'voltsd_24h', 'rotatesd_24h',\n",
    "       'pressuresd_24h', 'vibrationsd_24h', 'error1count', 'error2count',\n",
    "       'error3count', 'error4count', 'error5count','age',\n",
    "       'model_model1', 'model_model2', 'model_model3', 'model_model4','comp2_life']\n",
    "\n",
    "data_tst = data[cols]"
   ]
  },
  {
   "cell_type": "code",
   "execution_count": null,
   "id": "d86836d4",
   "metadata": {},
   "outputs": [],
   "source": [
    "data_tst.shape"
   ]
  },
  {
   "cell_type": "code",
   "execution_count": null,
   "id": "748fbce0",
   "metadata": {},
   "outputs": [],
   "source": [
    "X = data_tst.to_numpy()\n",
    "\n",
    "# Keep the last column as target y\n",
    "y = X[:,-1]\n",
    "X = X[:,:-1]"
   ]
  },
  {
   "cell_type": "code",
   "execution_count": null,
   "id": "db9094f8",
   "metadata": {},
   "outputs": [],
   "source": [
    "X_train_, X_test_, y_train_, y_test_ = train_test_split(X, y, test_size=0.1, random_state=0)\n",
    "\n",
    "print(f\"X_train: {X_train_.shape}\")\n",
    "print(f\"y_train: {y_train_.shape}\")\n",
    "\n",
    "print(f\"X_test: {X_test_.shape}\")\n",
    "print(f\"y_test: {y_test_.shape}\")"
   ]
  },
  {
   "cell_type": "code",
   "execution_count": null,
   "id": "c2fede41",
   "metadata": {},
   "outputs": [],
   "source": [
    "X_mean = X_train_.mean(axis=0)\n",
    "X_std = X_train_.std(axis=0)\n",
    "\n",
    "y_std = y_train_.std()\n",
    "y_mean = y_train_.mean()"
   ]
  },
  {
   "cell_type": "code",
   "execution_count": null,
   "id": "ab66a671",
   "metadata": {},
   "outputs": [],
   "source": [
    "X_train = (X_train_ - X_mean)/X_std\n",
    "X_test = (X_test_- X_mean)/X_std \n",
    "\n",
    "y_train = (y_train_- y_mean)/y_std \n",
    "y_test = (y_test_- y_mean)/y_std "
   ]
  },
  {
   "cell_type": "code",
   "execution_count": null,
   "id": "4302cab2",
   "metadata": {},
   "outputs": [],
   "source": [
    "# Prepare data for Pyro model\n",
    "X_train_torch = torch.tensor(X_train).float()\n",
    "y_train_torch = torch.tensor(y_train).float()\n",
    "\n",
    "print(f\"X_train shape: {X_train.shape}\")\n",
    "print(f\"y_train shape: {y_train.shape}\")"
   ]
  },
  {
   "cell_type": "code",
   "execution_count": null,
   "id": "02cda266",
   "metadata": {},
   "outputs": [],
   "source": [
    "# Define guide function\n",
    "guide = AutoMultivariateNormal(model)\n",
    "\n",
    "# Reset parameter values\n",
    "pyro.clear_param_store()"
   ]
  },
  {
   "cell_type": "code",
   "execution_count": null,
   "id": "bc3282ad",
   "metadata": {},
   "outputs": [],
   "source": [
    "# Define the number of optimization steps\n",
    "n_steps = 40000\n",
    "\n",
    "# Setup the optimizer\n",
    "adam_params = {\"lr\": 0.0001} # learning rate (lr) of optimizer\n",
    "optimizer = ClippedAdam(adam_params)\n",
    "\n",
    "# Setup the inference algorithm\n",
    "elbo = Trace_ELBO(num_particles=1)\n",
    "svi = SVI(model, guide, optimizer, loss=elbo)"
   ]
  },
  {
   "cell_type": "code",
   "execution_count": null,
   "id": "30efaaad",
   "metadata": {},
   "outputs": [],
   "source": [
    "# Do gradient steps\n",
    "for step in range(n_steps):\n",
    "    elbo = svi.step(X_train_torch, y_train_torch)\n",
    "    if step % 1000 == 0:\n",
    "#         clear_output(wait=0.01)\n",
    "        print(\"[%d] ELBO: %.1f\" % (step, elbo))"
   ]
  },
  {
   "cell_type": "code",
   "execution_count": null,
   "id": "1df45f7e",
   "metadata": {},
   "outputs": [],
   "source": [
    "predictive = Predictive(model, guide=guide, num_samples=1000,\n",
    "                        return_sites=(\"alpha\", \"beta\", \"sigma\"))\n",
    "samples = predictive(X_train_torch, y_train_torch)"
   ]
  },
  {
   "cell_type": "code",
   "execution_count": null,
   "id": "7d9f3d46",
   "metadata": {
    "scrolled": true
   },
   "outputs": [],
   "source": [
    "y_std, y_mean"
   ]
  },
  {
   "cell_type": "code",
   "execution_count": null,
   "id": "cd5deb94",
   "metadata": {},
   "outputs": [],
   "source": [
    "alpha_samples = samples[\"alpha\"].detach().numpy()\n",
    "beta_samples = samples[\"beta\"].detach().numpy()\n",
    "y_hat_train = np.mean(alpha_samples.T + np.dot(X_train, beta_samples[:,0].T), axis=1) \n",
    "y_hat = np.mean(alpha_samples.T + np.dot(X_test, beta_samples[:,0].T), axis=1)\n",
    "\n",
    "# convert back to the original scale\n",
    "preds = y_hat * y_std + y_mean\n",
    "preds_train = y_hat_train*y_std + y_mean\n",
    "y_true = y_test * y_std + y_mean"
   ]
  },
  {
   "cell_type": "code",
   "execution_count": null,
   "id": "3e96e578",
   "metadata": {},
   "outputs": [],
   "source": [
    "corr, mae, rae, rmse, r2, y_true, preds = compute_error(y_true, preds, None)\n",
    "print(\"CorrCoef: %.3f\\nMAE: %.3f\\nRMSE: %.3f\\nR2: %.3f\" % (corr, mae, rmse, r2))"
   ]
  },
  {
   "cell_type": "code",
   "execution_count": null,
   "id": "edd9dde6",
   "metadata": {},
   "outputs": [],
   "source": [
    "figures_path = os.path.abspath(os.path.join(root_dir,'reports','figures'))"
   ]
  },
  {
   "cell_type": "code",
   "execution_count": null,
   "id": "ec3a9b31",
   "metadata": {},
   "outputs": [],
   "source": [
    "true_vs_preds_plot(y_true, preds, window=None, fig_path=figures_path, name = 'svi_100_test')"
   ]
  },
  {
   "cell_type": "code",
   "execution_count": null,
   "id": "036a5ee2",
   "metadata": {},
   "outputs": [],
   "source": [
    "corr, mae, rae, rmse, r2, yy_true, ppreds = compute_error(y_true, preds, 60)\n",
    "print(\"CorrCoef: %.3f\\nMAE: %.3f\\nRMSE: %.3f\\nR2: %.3f\" % (corr, mae, rmse, r2))"
   ]
  },
  {
   "cell_type": "code",
   "execution_count": null,
   "id": "f5a6d943",
   "metadata": {},
   "outputs": [],
   "source": [
    "true_vs_preds_plot(yy_true, ppreds, window=None, fig_path=figures_path, name = 'svi_60_test')"
   ]
  },
  {
   "cell_type": "code",
   "execution_count": null,
   "id": "88195212",
   "metadata": {},
   "outputs": [],
   "source": []
  },
  {
   "cell_type": "code",
   "execution_count": null,
   "id": "de988c15",
   "metadata": {},
   "outputs": [],
   "source": []
  }
 ],
 "metadata": {
  "kernelspec": {
   "display_name": "mbml",
   "language": "python",
   "name": "mbml"
  },
  "language_info": {
   "codemirror_mode": {
    "name": "ipython",
    "version": 3
   },
   "file_extension": ".py",
   "mimetype": "text/x-python",
   "name": "python",
   "nbconvert_exporter": "python",
   "pygments_lexer": "ipython3",
   "version": "3.10.6"
  }
 },
 "nbformat": 4,
 "nbformat_minor": 5
}
