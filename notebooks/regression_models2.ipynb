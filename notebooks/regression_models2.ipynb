{
 "cells": [
  {
   "cell_type": "code",
   "execution_count": 3,
   "id": "991c2296",
   "metadata": {},
   "outputs": [],
   "source": [
    "from pathlib import Path\n",
    "import pandas as pd"
   ]
  },
  {
   "cell_type": "code",
   "execution_count": 45,
   "id": "284617f0",
   "metadata": {},
   "outputs": [
    {
     "name": "stdout",
     "output_type": "stream",
     "text": [
      "The autoreload extension is already loaded. To reload it, use:\n",
      "  %reload_ext autoreload\n"
     ]
    }
   ],
   "source": [
    "%load_ext autoreload\n",
    "%autoreload 2\n",
    "from src.models.models_svi import SVI_model_format, SVI_regression_model, svi_main\n",
    "from src.models.models_mcmc import MCMC_regression_model, MCMC_model_format\n",
    "from src.models.utils import compute_error\n",
    "from src.visualization.visualize import true_vs_preds_plot "
   ]
  },
  {
   "cell_type": "code",
   "execution_count": 5,
   "id": "c05f3bcc",
   "metadata": {},
   "outputs": [],
   "source": [
    "data_path = Path('../data/processed/data_processed.csv')\n",
    "data = pd.read_csv(data_path.as_posix())"
   ]
  },
  {
   "cell_type": "code",
   "execution_count": 6,
   "id": "c418c2f1",
   "metadata": {},
   "outputs": [],
   "source": [
    "data.drop(['Unnamed: 0'], axis=1, inplace=True)\n",
    "data.dropna(axis=0, inplace=True)"
   ]
  },
  {
   "cell_type": "code",
   "execution_count": 7,
   "id": "86391edd",
   "metadata": {},
   "outputs": [],
   "source": [
    "data['datetime'] = pd.to_datetime(data['datetime'])"
   ]
  },
  {
   "cell_type": "markdown",
   "id": "76e536a4",
   "metadata": {},
   "source": [
    "# SVI"
   ]
  },
  {
   "cell_type": "code",
   "execution_count": 8,
   "id": "c1fb20e2",
   "metadata": {},
   "outputs": [],
   "source": [
    "svi_regression = SVI_regression_model(data, 'comp2_life')"
   ]
  },
  {
   "cell_type": "code",
   "execution_count": 9,
   "id": "5cce224a",
   "metadata": {},
   "outputs": [],
   "source": [
    "svi_dataset = svi_regression.get_data_for_component()"
   ]
  },
  {
   "cell_type": "code",
   "execution_count": 10,
   "id": "8a7f448f",
   "metadata": {},
   "outputs": [
    {
     "data": {
      "text/html": [
       "<div>\n",
       "<style scoped>\n",
       "    .dataframe tbody tr th:only-of-type {\n",
       "        vertical-align: middle;\n",
       "    }\n",
       "\n",
       "    .dataframe tbody tr th {\n",
       "        vertical-align: top;\n",
       "    }\n",
       "\n",
       "    .dataframe thead th {\n",
       "        text-align: right;\n",
       "    }\n",
       "</style>\n",
       "<table border=\"1\" class=\"dataframe\">\n",
       "  <thead>\n",
       "    <tr style=\"text-align: right;\">\n",
       "      <th></th>\n",
       "      <th>voltmean_3h</th>\n",
       "      <th>rotatemean_3h</th>\n",
       "      <th>pressuremean_3h</th>\n",
       "      <th>vibrationmean_3h</th>\n",
       "      <th>voltsd_3h</th>\n",
       "      <th>rotatesd_3h</th>\n",
       "      <th>pressuresd_3h</th>\n",
       "      <th>vibrationsd_3h</th>\n",
       "      <th>voltmean_24h</th>\n",
       "      <th>rotatemean_24h</th>\n",
       "      <th>...</th>\n",
       "      <th>error2count</th>\n",
       "      <th>error3count</th>\n",
       "      <th>error4count</th>\n",
       "      <th>error5count</th>\n",
       "      <th>age</th>\n",
       "      <th>model_model1</th>\n",
       "      <th>model_model2</th>\n",
       "      <th>model_model3</th>\n",
       "      <th>model_model4</th>\n",
       "      <th>comp2_life</th>\n",
       "    </tr>\n",
       "  </thead>\n",
       "  <tbody>\n",
       "    <tr>\n",
       "      <th>17</th>\n",
       "      <td>166.281848</td>\n",
       "      <td>453.787824</td>\n",
       "      <td>106.187582</td>\n",
       "      <td>51.990080</td>\n",
       "      <td>24.276228</td>\n",
       "      <td>23.621315</td>\n",
       "      <td>11.176731</td>\n",
       "      <td>3.394073</td>\n",
       "      <td>172.042428</td>\n",
       "      <td>450.418764</td>\n",
       "      <td>...</td>\n",
       "      <td>0.0</td>\n",
       "      <td>1.0</td>\n",
       "      <td>0.0</td>\n",
       "      <td>1.0</td>\n",
       "      <td>18</td>\n",
       "      <td>0</td>\n",
       "      <td>0</td>\n",
       "      <td>1</td>\n",
       "      <td>0</td>\n",
       "      <td>105.875</td>\n",
       "    </tr>\n",
       "    <tr>\n",
       "      <th>18</th>\n",
       "      <td>175.412103</td>\n",
       "      <td>445.450581</td>\n",
       "      <td>100.887363</td>\n",
       "      <td>54.251534</td>\n",
       "      <td>34.918687</td>\n",
       "      <td>11.001625</td>\n",
       "      <td>10.580336</td>\n",
       "      <td>2.921501</td>\n",
       "      <td>171.219623</td>\n",
       "      <td>443.802134</td>\n",
       "      <td>...</td>\n",
       "      <td>0.0</td>\n",
       "      <td>1.0</td>\n",
       "      <td>0.0</td>\n",
       "      <td>1.0</td>\n",
       "      <td>18</td>\n",
       "      <td>0</td>\n",
       "      <td>0</td>\n",
       "      <td>1</td>\n",
       "      <td>0</td>\n",
       "      <td>105.750</td>\n",
       "    </tr>\n",
       "    <tr>\n",
       "      <th>19</th>\n",
       "      <td>157.347716</td>\n",
       "      <td>451.882075</td>\n",
       "      <td>101.289380</td>\n",
       "      <td>48.602686</td>\n",
       "      <td>24.617739</td>\n",
       "      <td>28.950883</td>\n",
       "      <td>9.966729</td>\n",
       "      <td>2.356486</td>\n",
       "      <td>172.013443</td>\n",
       "      <td>444.882018</td>\n",
       "      <td>...</td>\n",
       "      <td>0.0</td>\n",
       "      <td>1.0</td>\n",
       "      <td>0.0</td>\n",
       "      <td>1.0</td>\n",
       "      <td>18</td>\n",
       "      <td>0</td>\n",
       "      <td>0</td>\n",
       "      <td>1</td>\n",
       "      <td>0</td>\n",
       "      <td>105.625</td>\n",
       "    </tr>\n",
       "    <tr>\n",
       "      <th>20</th>\n",
       "      <td>176.450550</td>\n",
       "      <td>446.033068</td>\n",
       "      <td>84.521555</td>\n",
       "      <td>47.638836</td>\n",
       "      <td>8.071400</td>\n",
       "      <td>76.511343</td>\n",
       "      <td>2.636879</td>\n",
       "      <td>4.108621</td>\n",
       "      <td>170.176321</td>\n",
       "      <td>445.069594</td>\n",
       "      <td>...</td>\n",
       "      <td>0.0</td>\n",
       "      <td>1.0</td>\n",
       "      <td>0.0</td>\n",
       "      <td>1.0</td>\n",
       "      <td>18</td>\n",
       "      <td>0</td>\n",
       "      <td>0</td>\n",
       "      <td>1</td>\n",
       "      <td>0</td>\n",
       "      <td>105.500</td>\n",
       "    </tr>\n",
       "    <tr>\n",
       "      <th>21</th>\n",
       "      <td>190.325814</td>\n",
       "      <td>422.692565</td>\n",
       "      <td>107.393234</td>\n",
       "      <td>49.552856</td>\n",
       "      <td>8.390777</td>\n",
       "      <td>7.176553</td>\n",
       "      <td>4.262645</td>\n",
       "      <td>7.598552</td>\n",
       "      <td>172.932248</td>\n",
       "      <td>444.618018</td>\n",
       "      <td>...</td>\n",
       "      <td>0.0</td>\n",
       "      <td>1.0</td>\n",
       "      <td>0.0</td>\n",
       "      <td>1.0</td>\n",
       "      <td>18</td>\n",
       "      <td>0</td>\n",
       "      <td>0</td>\n",
       "      <td>1</td>\n",
       "      <td>0</td>\n",
       "      <td>105.375</td>\n",
       "    </tr>\n",
       "  </tbody>\n",
       "</table>\n",
       "<p>5 rows × 27 columns</p>\n",
       "</div>"
      ],
      "text/plain": [
       "    voltmean_3h  rotatemean_3h  pressuremean_3h  vibrationmean_3h  voltsd_3h  \\\n",
       "17   166.281848     453.787824       106.187582         51.990080  24.276228   \n",
       "18   175.412103     445.450581       100.887363         54.251534  34.918687   \n",
       "19   157.347716     451.882075       101.289380         48.602686  24.617739   \n",
       "20   176.450550     446.033068        84.521555         47.638836   8.071400   \n",
       "21   190.325814     422.692565       107.393234         49.552856   8.390777   \n",
       "\n",
       "    rotatesd_3h  pressuresd_3h  vibrationsd_3h  voltmean_24h  rotatemean_24h  \\\n",
       "17    23.621315      11.176731        3.394073    172.042428      450.418764   \n",
       "18    11.001625      10.580336        2.921501    171.219623      443.802134   \n",
       "19    28.950883       9.966729        2.356486    172.013443      444.882018   \n",
       "20    76.511343       2.636879        4.108621    170.176321      445.069594   \n",
       "21     7.176553       4.262645        7.598552    172.932248      444.618018   \n",
       "\n",
       "    ...  error2count  error3count  error4count  error5count  age  \\\n",
       "17  ...          0.0          1.0          0.0          1.0   18   \n",
       "18  ...          0.0          1.0          0.0          1.0   18   \n",
       "19  ...          0.0          1.0          0.0          1.0   18   \n",
       "20  ...          0.0          1.0          0.0          1.0   18   \n",
       "21  ...          0.0          1.0          0.0          1.0   18   \n",
       "\n",
       "    model_model1  model_model2  model_model3  model_model4  comp2_life  \n",
       "17             0             0             1             0     105.875  \n",
       "18             0             0             1             0     105.750  \n",
       "19             0             0             1             0     105.625  \n",
       "20             0             0             1             0     105.500  \n",
       "21             0             0             1             0     105.375  \n",
       "\n",
       "[5 rows x 27 columns]"
      ]
     },
     "execution_count": 10,
     "metadata": {},
     "output_type": "execute_result"
    }
   ],
   "source": [
    "svi_dataset.head()"
   ]
  },
  {
   "cell_type": "markdown",
   "id": "25b34db2",
   "metadata": {},
   "source": [
    "### Poisson"
   ]
  },
  {
   "cell_type": "code",
   "execution_count": 11,
   "id": "0f98677c",
   "metadata": {},
   "outputs": [],
   "source": [
    "poisson = SVI_model_format.poisson"
   ]
  },
  {
   "cell_type": "code",
   "execution_count": 12,
   "id": "d65f449f",
   "metadata": {},
   "outputs": [
    {
     "name": "stdout",
     "output_type": "stream",
     "text": [
      "POISSON Regression\n"
     ]
    }
   ],
   "source": [
    "y_poisson, X_poisson, X_train_torch_poisson, y_train_torch_poisson, X_test_poisson, y_test_poisson, X_train_poisson, y_train_poisson, y_std_poisson, y_mean_poisson = svi_regression.preprocess(X_init=svi_dataset, model=poisson['name'])"
   ]
  },
  {
   "cell_type": "code",
   "execution_count": 13,
   "id": "08777de7",
   "metadata": {},
   "outputs": [
    {
     "name": "stdout",
     "output_type": "stream",
     "text": [
      "[0] ELBO: 318520.5\n",
      "[100] ELBO: 309064.4\n",
      "[200] ELBO: 306878.6\n",
      "[300] ELBO: 276268.2\n",
      "[400] ELBO: 269723.6\n",
      "[500] ELBO: 261796.3\n",
      "[600] ELBO: 291743.2\n",
      "[700] ELBO: 265881.5\n",
      "[800] ELBO: 267817.8\n",
      "[900] ELBO: 262180.1\n"
     ]
    }
   ],
   "source": [
    "poisson_guide = svi_regression.pyro_inference(X_train_torch=X_train_torch_poisson, y_train_torch=y_train_torch_poisson, model=poisson['model'], steps=1000)"
   ]
  },
  {
   "cell_type": "code",
   "execution_count": 14,
   "id": "1bf191fb",
   "metadata": {},
   "outputs": [
    {
     "data": {
      "text/plain": [
       "(pyro.infer.autoguide.guides.AutoDiagonalNormal, function)"
      ]
     },
     "execution_count": 14,
     "metadata": {},
     "output_type": "execute_result"
    }
   ],
   "source": [
    "type(poisson_guide), type(poisson['model'])"
   ]
  },
  {
   "cell_type": "code",
   "execution_count": 15,
   "id": "72bd3fc7",
   "metadata": {},
   "outputs": [
    {
     "data": {
      "text/plain": [
       "AutoDiagonalNormal()"
      ]
     },
     "execution_count": 15,
     "metadata": {},
     "output_type": "execute_result"
    }
   ],
   "source": [
    "poisson_guide"
   ]
  },
  {
   "cell_type": "code",
   "execution_count": 16,
   "id": "5f602f30",
   "metadata": {},
   "outputs": [
    {
     "data": {
      "text/plain": [
       "<function src.models.models.poisson_model(X, obs=None)>"
      ]
     },
     "execution_count": 16,
     "metadata": {},
     "output_type": "execute_result"
    }
   ],
   "source": [
    "poisson['model']"
   ]
  },
  {
   "cell_type": "code",
   "execution_count": 20,
   "id": "709931e7",
   "metadata": {},
   "outputs": [],
   "source": [
    "poisson_preds, poisson_y_true = svi_regression.post_process(guide=poisson_guide, model=poisson, X_train_torch=X_train_torch_poisson, y_train_torch=y_train_torch_poisson, X_test=X_test_poisson, y_test=y_test_poisson, y_std=y_std_poisson, y_mean=y_mean_poisson)"
   ]
  },
  {
   "cell_type": "code",
   "execution_count": 21,
   "id": "82806bc7",
   "metadata": {},
   "outputs": [
    {
     "name": "stdout",
     "output_type": "stream",
     "text": [
      "No threshold\n",
      "CorrCoef: 0.125\n",
      "MAE: 24.353\n",
      "RMSE: 40.124\n",
      "R2: 0.000\n"
     ]
    }
   ],
   "source": [
    "corr, mae, rae, rmse, r2, svi_trues, svi_pred = compute_error(trues=poisson_y_true, predicted=poisson_preds, threshold=None)\n",
    "print(\"CorrCoef: %.3f\\nMAE: %.3f\\nRMSE: %.3f\\nR2: %.3f\" % (corr, mae, rmse, r2))"
   ]
  },
  {
   "cell_type": "markdown",
   "id": "04699cf5",
   "metadata": {},
   "source": [
    "### Linear"
   ]
  },
  {
   "cell_type": "code",
   "execution_count": 22,
   "id": "657ec9a1",
   "metadata": {},
   "outputs": [],
   "source": [
    "linear = SVI_model_format.linear"
   ]
  },
  {
   "cell_type": "code",
   "execution_count": 23,
   "id": "ca7c1806",
   "metadata": {},
   "outputs": [
    {
     "name": "stdout",
     "output_type": "stream",
     "text": [
      "LINEAR Regression\n"
     ]
    }
   ],
   "source": [
    "y_linear, X_linear, X_train_torch_linear, y_train_torch_linear, X_test_linear, y_test_linear, X_train_linear, y_train_linear, y_std_linear, y_mean_linear = svi_regression.preprocess(X_init=svi_dataset, model=linear['name'])"
   ]
  },
  {
   "cell_type": "code",
   "execution_count": 24,
   "id": "adaabf05",
   "metadata": {},
   "outputs": [
    {
     "name": "stdout",
     "output_type": "stream",
     "text": [
      "[0] ELBO: 13406.6\n",
      "[100] ELBO: 13270.8\n",
      "[200] ELBO: 13095.8\n",
      "[300] ELBO: 13165.9\n",
      "[400] ELBO: 13701.1\n",
      "[500] ELBO: 13523.1\n",
      "[600] ELBO: 12921.6\n",
      "[700] ELBO: 12867.1\n",
      "[800] ELBO: 13519.7\n",
      "[900] ELBO: 13102.6\n"
     ]
    }
   ],
   "source": [
    "linear_guide = svi_regression.pyro_inference(X_train_torch=X_train_torch_linear, y_train_torch=y_train_torch_linear, model=linear['model'], steps=1000)"
   ]
  },
  {
   "cell_type": "code",
   "execution_count": 25,
   "id": "fab5398f",
   "metadata": {},
   "outputs": [],
   "source": [
    "linear_preds, linear_y_true = svi_regression.post_process(guide=linear_guide, model=linear, X_train_torch=X_train_torch_linear, y_train_torch=y_train_torch_linear, X_test=X_test_linear, y_test=y_test_linear, y_std=y_std_linear, y_mean=y_mean_linear)"
   ]
  },
  {
   "cell_type": "code",
   "execution_count": 26,
   "id": "560f2db3",
   "metadata": {},
   "outputs": [
    {
     "name": "stdout",
     "output_type": "stream",
     "text": [
      "No threshold\n",
      "CorrCoef: 0.232\n",
      "MAE: 22.438\n",
      "RMSE: 37.695\n",
      "R2: 0.000\n"
     ]
    }
   ],
   "source": [
    "corr, mae, rae, rmse, r2, svi_trues, svi_pred = compute_error(trues=linear_y_true, predicted=linear_preds, threshold=None)\n",
    "print(\"CorrCoef: %.3f\\nMAE: %.3f\\nRMSE: %.3f\\nR2: %.3f\" % (corr, mae, rmse, r2))"
   ]
  },
  {
   "cell_type": "markdown",
   "id": "ee1dee38",
   "metadata": {},
   "source": [
    "### Heteroscedastic"
   ]
  },
  {
   "cell_type": "code",
   "execution_count": 27,
   "id": "4b67bc42",
   "metadata": {},
   "outputs": [],
   "source": [
    "heteroscedastic = SVI_model_format.heterosc"
   ]
  },
  {
   "cell_type": "code",
   "execution_count": 28,
   "id": "dcf4a99d",
   "metadata": {},
   "outputs": [
    {
     "name": "stdout",
     "output_type": "stream",
     "text": [
      "HETEROSCEDASTIC Regression\n"
     ]
    }
   ],
   "source": [
    "y_heterosc, X_heterosc, X_train_torch_heterosc, y_train_torch_heterosc, X_test_heterosc, y_test_heterosc, X_train_heterosc, y_train_heterosc, y_std_heterosc, y_mean_heterosc = svi_regression.preprocess(X_init=svi_dataset, model=heteroscedastic['name'])"
   ]
  },
  {
   "cell_type": "code",
   "execution_count": 29,
   "id": "20345066",
   "metadata": {},
   "outputs": [
    {
     "name": "stdout",
     "output_type": "stream",
     "text": [
      "[0] ELBO: 1202375.2\n",
      "[100] ELBO: 560317.3\n",
      "[200] ELBO: 287986.9\n",
      "[300] ELBO: 295488.2\n",
      "[400] ELBO: 203894.5\n",
      "[500] ELBO: 229750.9\n",
      "[600] ELBO: 93275.4\n",
      "[700] ELBO: 45756.3\n",
      "[800] ELBO: 99573.1\n",
      "[900] ELBO: 31774.8\n"
     ]
    }
   ],
   "source": [
    "heteroscedastic_guide = svi_regression.pyro_inference(X_train_torch=X_train_torch_heterosc, y_train_torch=y_train_torch_heterosc, model=heteroscedastic['model'], steps=1000)"
   ]
  },
  {
   "cell_type": "code",
   "execution_count": 30,
   "id": "373cb634",
   "metadata": {},
   "outputs": [],
   "source": [
    "heterosc_preds, heterosc_y_true = svi_regression.post_process(guide=heteroscedastic_guide, model=heteroscedastic, X_train_torch=X_train_torch_heterosc, y_train_torch=y_train_torch_heterosc, X_test=X_test_heterosc, y_test=y_test_heterosc, y_std=y_std_heterosc, y_mean=y_mean_heterosc)"
   ]
  },
  {
   "cell_type": "code",
   "execution_count": 31,
   "id": "d39d92c8",
   "metadata": {},
   "outputs": [
    {
     "name": "stdout",
     "output_type": "stream",
     "text": [
      "No threshold\n",
      "CorrCoef: -0.092\n",
      "MAE: 24.980\n",
      "RMSE: 40.523\n",
      "R2: 0.000\n"
     ]
    }
   ],
   "source": [
    "corr, mae, rae, rmse, r2, svi_trues, svi_pred = compute_error(trues=heterosc_y_true, predicted=heterosc_preds, threshold=None)\n",
    "print(\"CorrCoef: %.3f\\nMAE: %.3f\\nRMSE: %.3f\\nR2: %.3f\" % (corr, mae, rmse, r2))"
   ]
  },
  {
   "cell_type": "markdown",
   "id": "b06fc862",
   "metadata": {},
   "source": [
    "# MCMC"
   ]
  },
  {
   "cell_type": "code",
   "execution_count": 33,
   "id": "0915987c",
   "metadata": {},
   "outputs": [],
   "source": [
    "mcmc_regression = MCMC_regression_model(data, 'comp2_life')"
   ]
  },
  {
   "cell_type": "code",
   "execution_count": 34,
   "id": "7c80e4de",
   "metadata": {},
   "outputs": [],
   "source": [
    "mcmc_dataset = mcmc_regression.get_data_for_component()"
   ]
  },
  {
   "cell_type": "code",
   "execution_count": 35,
   "id": "11570a54",
   "metadata": {},
   "outputs": [
    {
     "data": {
      "text/html": [
       "<div>\n",
       "<style scoped>\n",
       "    .dataframe tbody tr th:only-of-type {\n",
       "        vertical-align: middle;\n",
       "    }\n",
       "\n",
       "    .dataframe tbody tr th {\n",
       "        vertical-align: top;\n",
       "    }\n",
       "\n",
       "    .dataframe thead th {\n",
       "        text-align: right;\n",
       "    }\n",
       "</style>\n",
       "<table border=\"1\" class=\"dataframe\">\n",
       "  <thead>\n",
       "    <tr style=\"text-align: right;\">\n",
       "      <th></th>\n",
       "      <th>voltmean_3h</th>\n",
       "      <th>rotatemean_3h</th>\n",
       "      <th>pressuremean_3h</th>\n",
       "      <th>vibrationmean_3h</th>\n",
       "      <th>voltsd_3h</th>\n",
       "      <th>rotatesd_3h</th>\n",
       "      <th>pressuresd_3h</th>\n",
       "      <th>vibrationsd_3h</th>\n",
       "      <th>voltmean_24h</th>\n",
       "      <th>rotatemean_24h</th>\n",
       "      <th>...</th>\n",
       "      <th>error2count</th>\n",
       "      <th>error3count</th>\n",
       "      <th>error4count</th>\n",
       "      <th>error5count</th>\n",
       "      <th>age</th>\n",
       "      <th>model_model1</th>\n",
       "      <th>model_model2</th>\n",
       "      <th>model_model3</th>\n",
       "      <th>model_model4</th>\n",
       "      <th>comp2_life</th>\n",
       "    </tr>\n",
       "  </thead>\n",
       "  <tbody>\n",
       "    <tr>\n",
       "      <th>17</th>\n",
       "      <td>166.281848</td>\n",
       "      <td>453.787824</td>\n",
       "      <td>106.187582</td>\n",
       "      <td>51.990080</td>\n",
       "      <td>24.276228</td>\n",
       "      <td>23.621315</td>\n",
       "      <td>11.176731</td>\n",
       "      <td>3.394073</td>\n",
       "      <td>172.042428</td>\n",
       "      <td>450.418764</td>\n",
       "      <td>...</td>\n",
       "      <td>0.0</td>\n",
       "      <td>1.0</td>\n",
       "      <td>0.0</td>\n",
       "      <td>1.0</td>\n",
       "      <td>18</td>\n",
       "      <td>0</td>\n",
       "      <td>0</td>\n",
       "      <td>1</td>\n",
       "      <td>0</td>\n",
       "      <td>105.875</td>\n",
       "    </tr>\n",
       "    <tr>\n",
       "      <th>18</th>\n",
       "      <td>175.412103</td>\n",
       "      <td>445.450581</td>\n",
       "      <td>100.887363</td>\n",
       "      <td>54.251534</td>\n",
       "      <td>34.918687</td>\n",
       "      <td>11.001625</td>\n",
       "      <td>10.580336</td>\n",
       "      <td>2.921501</td>\n",
       "      <td>171.219623</td>\n",
       "      <td>443.802134</td>\n",
       "      <td>...</td>\n",
       "      <td>0.0</td>\n",
       "      <td>1.0</td>\n",
       "      <td>0.0</td>\n",
       "      <td>1.0</td>\n",
       "      <td>18</td>\n",
       "      <td>0</td>\n",
       "      <td>0</td>\n",
       "      <td>1</td>\n",
       "      <td>0</td>\n",
       "      <td>105.750</td>\n",
       "    </tr>\n",
       "    <tr>\n",
       "      <th>19</th>\n",
       "      <td>157.347716</td>\n",
       "      <td>451.882075</td>\n",
       "      <td>101.289380</td>\n",
       "      <td>48.602686</td>\n",
       "      <td>24.617739</td>\n",
       "      <td>28.950883</td>\n",
       "      <td>9.966729</td>\n",
       "      <td>2.356486</td>\n",
       "      <td>172.013443</td>\n",
       "      <td>444.882018</td>\n",
       "      <td>...</td>\n",
       "      <td>0.0</td>\n",
       "      <td>1.0</td>\n",
       "      <td>0.0</td>\n",
       "      <td>1.0</td>\n",
       "      <td>18</td>\n",
       "      <td>0</td>\n",
       "      <td>0</td>\n",
       "      <td>1</td>\n",
       "      <td>0</td>\n",
       "      <td>105.625</td>\n",
       "    </tr>\n",
       "    <tr>\n",
       "      <th>20</th>\n",
       "      <td>176.450550</td>\n",
       "      <td>446.033068</td>\n",
       "      <td>84.521555</td>\n",
       "      <td>47.638836</td>\n",
       "      <td>8.071400</td>\n",
       "      <td>76.511343</td>\n",
       "      <td>2.636879</td>\n",
       "      <td>4.108621</td>\n",
       "      <td>170.176321</td>\n",
       "      <td>445.069594</td>\n",
       "      <td>...</td>\n",
       "      <td>0.0</td>\n",
       "      <td>1.0</td>\n",
       "      <td>0.0</td>\n",
       "      <td>1.0</td>\n",
       "      <td>18</td>\n",
       "      <td>0</td>\n",
       "      <td>0</td>\n",
       "      <td>1</td>\n",
       "      <td>0</td>\n",
       "      <td>105.500</td>\n",
       "    </tr>\n",
       "    <tr>\n",
       "      <th>21</th>\n",
       "      <td>190.325814</td>\n",
       "      <td>422.692565</td>\n",
       "      <td>107.393234</td>\n",
       "      <td>49.552856</td>\n",
       "      <td>8.390777</td>\n",
       "      <td>7.176553</td>\n",
       "      <td>4.262645</td>\n",
       "      <td>7.598552</td>\n",
       "      <td>172.932248</td>\n",
       "      <td>444.618018</td>\n",
       "      <td>...</td>\n",
       "      <td>0.0</td>\n",
       "      <td>1.0</td>\n",
       "      <td>0.0</td>\n",
       "      <td>1.0</td>\n",
       "      <td>18</td>\n",
       "      <td>0</td>\n",
       "      <td>0</td>\n",
       "      <td>1</td>\n",
       "      <td>0</td>\n",
       "      <td>105.375</td>\n",
       "    </tr>\n",
       "  </tbody>\n",
       "</table>\n",
       "<p>5 rows × 27 columns</p>\n",
       "</div>"
      ],
      "text/plain": [
       "    voltmean_3h  rotatemean_3h  pressuremean_3h  vibrationmean_3h  voltsd_3h  \\\n",
       "17   166.281848     453.787824       106.187582         51.990080  24.276228   \n",
       "18   175.412103     445.450581       100.887363         54.251534  34.918687   \n",
       "19   157.347716     451.882075       101.289380         48.602686  24.617739   \n",
       "20   176.450550     446.033068        84.521555         47.638836   8.071400   \n",
       "21   190.325814     422.692565       107.393234         49.552856   8.390777   \n",
       "\n",
       "    rotatesd_3h  pressuresd_3h  vibrationsd_3h  voltmean_24h  rotatemean_24h  \\\n",
       "17    23.621315      11.176731        3.394073    172.042428      450.418764   \n",
       "18    11.001625      10.580336        2.921501    171.219623      443.802134   \n",
       "19    28.950883       9.966729        2.356486    172.013443      444.882018   \n",
       "20    76.511343       2.636879        4.108621    170.176321      445.069594   \n",
       "21     7.176553       4.262645        7.598552    172.932248      444.618018   \n",
       "\n",
       "    ...  error2count  error3count  error4count  error5count  age  \\\n",
       "17  ...          0.0          1.0          0.0          1.0   18   \n",
       "18  ...          0.0          1.0          0.0          1.0   18   \n",
       "19  ...          0.0          1.0          0.0          1.0   18   \n",
       "20  ...          0.0          1.0          0.0          1.0   18   \n",
       "21  ...          0.0          1.0          0.0          1.0   18   \n",
       "\n",
       "    model_model1  model_model2  model_model3  model_model4  comp2_life  \n",
       "17             0             0             1             0     105.875  \n",
       "18             0             0             1             0     105.750  \n",
       "19             0             0             1             0     105.625  \n",
       "20             0             0             1             0     105.500  \n",
       "21             0             0             1             0     105.375  \n",
       "\n",
       "[5 rows x 27 columns]"
      ]
     },
     "execution_count": 35,
     "metadata": {},
     "output_type": "execute_result"
    }
   ],
   "source": [
    "mcmc_dataset.head()"
   ]
  },
  {
   "cell_type": "markdown",
   "id": "85338c04",
   "metadata": {},
   "source": [
    "### Linear"
   ]
  },
  {
   "cell_type": "code",
   "execution_count": 39,
   "id": "a637ef00",
   "metadata": {},
   "outputs": [],
   "source": [
    "mcmc_linear = MCMC_model_format.linear"
   ]
  },
  {
   "cell_type": "code",
   "execution_count": 36,
   "id": "a35c7c6e",
   "metadata": {},
   "outputs": [],
   "source": [
    "y_mcmc, X_mcmc, X_train_torch_mcmc, y_train_torch_mcmc, X_test_mcmc, y_test_mcmc, X_train_mcmc, y_train_mcmc, y_std_mcmc, y_mean_mcmc = mcmc_regression.preprocess(X_init=mcmc_dataset)"
   ]
  },
  {
   "cell_type": "code",
   "execution_count": 40,
   "id": "aaa79095",
   "metadata": {},
   "outputs": [
    {
     "name": "stderr",
     "output_type": "stream",
     "text": [
      "Sample: 100%|██████████████████████████████████████████| 300/300 [01:05,  4.58it/s, step size=3.30e-02, acc. prob=0.893]                                                                       "
     ]
    },
    {
     "name": "stdout",
     "output_type": "stream",
     "text": [
      "\n",
      "                mean       std    median      5.0%     95.0%     n_eff     r_hat\n",
      "     alpha      0.00      0.01      0.00     -0.02      0.03    171.65      0.99\n",
      "   beta[0]     -0.03      0.02     -0.03     -0.05      0.01    175.62      0.99\n",
      "   beta[1]      0.01      0.03      0.02     -0.02      0.07    172.92      1.00\n",
      "   beta[2]      0.02      0.03      0.02     -0.02      0.06    167.56      1.00\n",
      "   beta[3]     -0.01      0.02     -0.01     -0.05      0.03    117.63      1.01\n",
      "   beta[4]      0.01      0.01      0.01     -0.02      0.03    154.91      0.99\n",
      "   beta[5]      0.02      0.02      0.02     -0.01      0.04    263.70      0.99\n",
      "   beta[6]     -0.00      0.01     -0.00     -0.02      0.02    140.51      1.00\n",
      "   beta[7]      0.00      0.01      0.00     -0.02      0.02    139.67      0.99\n",
      "   beta[8]     -0.03      0.04     -0.03     -0.08      0.04    116.48      0.99\n",
      "   beta[9]      0.17      0.04      0.17      0.09      0.23     79.53      1.00\n",
      "  beta[10]      0.02      0.03      0.02     -0.03      0.07    152.01      0.99\n",
      "  beta[11]     -0.07      0.04     -0.07     -0.15     -0.01    111.53      1.00\n",
      "  beta[12]      0.00      0.01      0.00     -0.02      0.02    198.73      0.99\n",
      "  beta[13]     -0.02      0.01     -0.02     -0.04      0.00    116.11      0.99\n",
      "  beta[14]     -0.05      0.01     -0.05     -0.08     -0.03    151.85      1.00\n",
      "  beta[15]      0.08      0.02      0.08      0.05      0.10    158.00      1.00\n",
      "  beta[16]      0.05      0.03      0.05     -0.00      0.10     59.20      1.01\n",
      "  beta[17]     -0.31      0.05     -0.31     -0.39     -0.24     89.69      0.99\n",
      "  beta[18]     -0.06      0.04     -0.06     -0.11      0.00    104.94      0.99\n",
      "  beta[19]     -0.02      0.03     -0.02     -0.06      0.03    405.42      0.99\n",
      "  beta[20]      0.16      0.04      0.16      0.09      0.21     82.75      0.99\n",
      "  beta[21]     -0.03      0.01     -0.03     -0.05     -0.01    116.35      1.01\n",
      "  beta[22]     -0.09      0.50     -0.16     -0.67      1.01     24.72      1.03\n",
      "  beta[23]     -0.12      0.48     -0.18     -0.82      0.80     24.84      1.03\n",
      "  beta[24]     -0.15      0.53     -0.22     -0.92      0.87     24.54      1.03\n",
      "  beta[25]     -0.06      0.49     -0.14     -0.88      0.77     24.70      1.03\n",
      "     sigma      0.83      0.01      0.83      0.81      0.84    172.18      0.99\n",
      "\n",
      "Number of divergences: 0\n",
      "None\n"
     ]
    },
    {
     "name": "stderr",
     "output_type": "stream",
     "text": [
      "\n"
     ]
    }
   ],
   "source": [
    "mcmc_samples = mcmc_regression.pyro_inference(X_train_torch_mcmc, y_train_torch_mcmc, mcmc_linear['model'], 100)"
   ]
  },
  {
   "cell_type": "code",
   "execution_count": 43,
   "id": "2812d4c3",
   "metadata": {},
   "outputs": [],
   "source": [
    "mcmc_preds, mcmc_y_true = mcmc_regression.post_process(X_test_mcmc, X_train_mcmc, mcmc_samples, y_std_mcmc, y_mean_mcmc, y_test_mcmc)"
   ]
  },
  {
   "cell_type": "code",
   "execution_count": 44,
   "id": "fb073022",
   "metadata": {
    "scrolled": false
   },
   "outputs": [
    {
     "name": "stdout",
     "output_type": "stream",
     "text": [
      "No threshold\n",
      "CorrCoef: 0.576\n",
      "MAE: 16.596\n",
      "RMSE: 24.504\n",
      "R2: 0.327\n"
     ]
    }
   ],
   "source": [
    "corr, mae, rae, rmse, r2, mcmc_trues, mcmc_pred = compute_error(trues=mcmc_y_true, predicted=mcmc_preds, threshold=None)\n",
    "print(\"CorrCoef: %.3f\\nMAE: %.3f\\nRMSE: %.3f\\nR2: %.3f\" % (corr, mae, rmse, r2))"
   ]
  },
  {
   "cell_type": "code",
   "execution_count": null,
   "id": "3fddbebd",
   "metadata": {},
   "outputs": [],
   "source": []
  },
  {
   "cell_type": "code",
   "execution_count": 68,
   "id": "d65ed3e7",
   "metadata": {},
   "outputs": [],
   "source": [
    "components = ['comp1_fail', 'comp2_fail', 'comp3_fail', 'comp4_fail']"
   ]
  },
  {
   "cell_type": "code",
   "execution_count": 70,
   "id": "5408e741",
   "metadata": {},
   "outputs": [
    {
     "name": "stdout",
     "output_type": "stream",
     "text": [
      "comp1_fail\n",
      "POISSON Regression\n",
      "[0] ELBO: 5419.8\n",
      "[100] ELBO: 5234.2\n",
      "[200] ELBO: 6871.3\n",
      "[300] ELBO: 4369.2\n",
      "[400] ELBO: 3867.2\n",
      "[500] ELBO: 4572.0\n",
      "[600] ELBO: 4325.0\n",
      "[700] ELBO: 3371.8\n",
      "[800] ELBO: 3732.2\n",
      "[900] ELBO: 3851.7\n",
      "[1000] ELBO: 3564.4\n",
      "[1100] ELBO: 2971.8\n",
      "[1200] ELBO: 3668.0\n",
      "[1300] ELBO: 3710.6\n",
      "[1400] ELBO: 3914.0\n",
      "[1500] ELBO: 3768.3\n",
      "[1600] ELBO: 3567.2\n",
      "[1700] ELBO: 3715.8\n",
      "[1800] ELBO: 3165.6\n",
      "[1900] ELBO: 2921.0\n",
      "No threshold\n",
      "CorrCoef: 0.513\n",
      "MAE: 0.607\n",
      "RMSE: 0.780\n",
      "R2: 0.000\n",
      "comp2_fail\n",
      "POISSON Regression\n",
      "[0] ELBO: 9068.3\n",
      "[100] ELBO: 10094.3\n",
      "[200] ELBO: 12198.7\n",
      "[300] ELBO: 8109.2\n",
      "[400] ELBO: 8170.9\n",
      "[500] ELBO: 4616.6\n",
      "[600] ELBO: 6972.6\n",
      "[700] ELBO: 5409.3\n",
      "[800] ELBO: 4783.9\n",
      "[900] ELBO: 5258.8\n",
      "[1000] ELBO: 4814.5\n",
      "[1100] ELBO: 4289.6\n",
      "[1200] ELBO: 4401.5\n",
      "[1300] ELBO: 3999.2\n",
      "[1400] ELBO: 4235.5\n",
      "[1500] ELBO: 4375.5\n",
      "[1600] ELBO: 3628.6\n",
      "[1700] ELBO: 3432.9\n",
      "[1800] ELBO: 3574.3\n",
      "[1900] ELBO: 3373.5\n",
      "No threshold\n",
      "CorrCoef: 0.460\n",
      "MAE: 0.807\n",
      "RMSE: 1.191\n",
      "R2: 0.000\n",
      "Content appended to file\n",
      "comp3_fail\n",
      "POISSON Regression\n",
      "[0] ELBO: 35099.6\n",
      "[100] ELBO: 46254.5\n",
      "[200] ELBO: 38497.4\n",
      "[300] ELBO: 42745.2\n",
      "[400] ELBO: 29273.4\n",
      "[500] ELBO: 22242.3\n",
      "[600] ELBO: 23045.0\n",
      "[700] ELBO: 30970.6\n",
      "[800] ELBO: 17838.2\n",
      "[900] ELBO: 20351.9\n",
      "[1000] ELBO: 23831.6\n",
      "[1100] ELBO: 16928.0\n",
      "[1200] ELBO: 25833.0\n",
      "[1300] ELBO: 13061.8\n",
      "[1400] ELBO: 14504.7\n",
      "[1500] ELBO: 14789.4\n",
      "[1600] ELBO: 16006.4\n",
      "[1700] ELBO: 11056.8\n",
      "[1800] ELBO: 7812.7\n",
      "[1900] ELBO: 10665.8\n",
      "No threshold\n",
      "CorrCoef: 0.184\n",
      "MAE: 4.008\n",
      "RMSE: 8.531\n",
      "R2: 0.000\n",
      "Content appended to file\n",
      "comp4_fail\n",
      "POISSON Regression\n",
      "[0] ELBO: 6208.3\n",
      "[100] ELBO: 5966.0\n",
      "[200] ELBO: 6660.3\n",
      "[300] ELBO: 5643.0\n",
      "[400] ELBO: 5759.5\n",
      "[500] ELBO: 6665.9\n",
      "[600] ELBO: 5451.8\n",
      "[700] ELBO: 4057.5\n",
      "[800] ELBO: 4367.4\n",
      "[900] ELBO: 4031.7\n",
      "[1000] ELBO: 3892.9\n",
      "[1100] ELBO: 3454.8\n",
      "[1200] ELBO: 4253.8\n",
      "[1300] ELBO: 3650.7\n",
      "[1400] ELBO: 4365.6\n",
      "[1500] ELBO: 3029.2\n",
      "[1600] ELBO: 3511.7\n",
      "[1700] ELBO: 3400.9\n",
      "[1800] ELBO: 2975.6\n",
      "[1900] ELBO: 4040.5\n",
      "No threshold\n",
      "CorrCoef: 0.622\n",
      "MAE: 0.761\n",
      "RMSE: 0.894\n",
      "R2: 0.000\n",
      "Content appended to file\n"
     ]
    }
   ],
   "source": [
    "for component in components:\n",
    "    svi_main(data, component, 'poisson', steps=2000)"
   ]
  },
  {
   "cell_type": "code",
   "execution_count": 66,
   "id": "d91eff7d",
   "metadata": {},
   "outputs": [
    {
     "name": "stdout",
     "output_type": "stream",
     "text": [
      "comp2_life\n",
      "POISSON Regression\n",
      "[0] ELBO: 230274.9\n",
      "[100] ELBO: 232949.1\n",
      "[200] ELBO: 241390.4\n",
      "[300] ELBO: 227659.7\n",
      "[400] ELBO: 204318.4\n",
      "[500] ELBO: 228912.2\n",
      "[600] ELBO: 209692.0\n",
      "[700] ELBO: 197950.9\n",
      "[800] ELBO: 202513.7\n",
      "[900] ELBO: 195477.9\n",
      "[1000] ELBO: 198315.2\n",
      "[1100] ELBO: 192002.5\n",
      "[1200] ELBO: 182600.3\n",
      "[1300] ELBO: 186795.3\n",
      "[1400] ELBO: 174847.1\n",
      "[1500] ELBO: 173074.5\n",
      "[1600] ELBO: 182023.6\n",
      "[1700] ELBO: 159636.4\n",
      "[1800] ELBO: 162375.9\n",
      "[1900] ELBO: 155870.5\n",
      "No threshold\n",
      "CorrCoef: 0.143\n",
      "MAE: 22.030\n",
      "RMSE: 39.085\n",
      "R2: 0.000\n"
     ]
    }
   ],
   "source": [
    "svi_main(data,'comp2_life', 'poisson', steps=2000)"
   ]
  },
  {
   "cell_type": "code",
   "execution_count": 67,
   "id": "afd03724",
   "metadata": {},
   "outputs": [
    {
     "name": "stdout",
     "output_type": "stream",
     "text": [
      "comp2_life\n",
      "LINEAR Regression\n",
      "[0] ELBO: 9676.4\n",
      "[100] ELBO: 9428.8\n",
      "[200] ELBO: 10130.4\n",
      "[300] ELBO: 9800.2\n",
      "[400] ELBO: 10387.0\n",
      "[500] ELBO: 9972.7\n",
      "[600] ELBO: 9386.2\n",
      "[700] ELBO: 9601.5\n",
      "[800] ELBO: 9372.4\n",
      "[900] ELBO: 9783.4\n",
      "[1000] ELBO: 9764.7\n",
      "[1100] ELBO: 9534.0\n",
      "[1200] ELBO: 9182.6\n",
      "[1300] ELBO: 9223.0\n",
      "[1400] ELBO: 9337.3\n",
      "[1500] ELBO: 9239.2\n",
      "[1600] ELBO: 9376.7\n",
      "[1700] ELBO: 8866.0\n",
      "[1800] ELBO: 9310.5\n",
      "[1900] ELBO: 9546.5\n",
      "No threshold\n",
      "CorrCoef: 0.286\n",
      "MAE: 22.942\n",
      "RMSE: 39.189\n",
      "R2: 0.000\n",
      "Content appended to file\n"
     ]
    }
   ],
   "source": [
    "svi_main(data,'comp2_life', 'linear', steps=2000)"
   ]
  },
  {
   "cell_type": "code",
   "execution_count": 51,
   "id": "b86cf2ce",
   "metadata": {},
   "outputs": [
    {
     "name": "stdout",
     "output_type": "stream",
     "text": [
      "comp2_life\n",
      "HETEROSCEDASTIC Regression\n",
      "[0] ELBO: 260463.5\n",
      "[100] ELBO: 601577.9\n",
      "[200] ELBO: 1445578.6\n",
      "[300] ELBO: 249741.8\n",
      "[400] ELBO: 160566.8\n",
      "[500] ELBO: 329763.0\n",
      "[600] ELBO: 131040.9\n",
      "[700] ELBO: 93087.2\n",
      "[800] ELBO: 52574.0\n",
      "[900] ELBO: 66611.7\n",
      "[1000] ELBO: 137398.6\n",
      "[1100] ELBO: 94235.6\n",
      "[1200] ELBO: 94559.0\n",
      "[1300] ELBO: 36983.6\n",
      "[1400] ELBO: 54939.3\n",
      "[1500] ELBO: 35147.3\n",
      "[1600] ELBO: 39411.9\n",
      "[1700] ELBO: 37046.6\n",
      "[1800] ELBO: 37299.5\n",
      "[1900] ELBO: 23618.5\n",
      "No threshold\n",
      "CorrCoef: -0.373\n",
      "MAE: 25.903\n",
      "RMSE: 42.585\n",
      "R2: 0.000\n"
     ]
    }
   ],
   "source": [
    "svi_main(data,'comp2_life', 'heteroscedastic', steps=2000)"
   ]
  },
  {
   "cell_type": "code",
   "execution_count": null,
   "id": "4a79cf1d",
   "metadata": {},
   "outputs": [],
   "source": []
  }
 ],
 "metadata": {
  "kernelspec": {
   "display_name": "mbml",
   "language": "python",
   "name": "mbml"
  },
  "language_info": {
   "codemirror_mode": {
    "name": "ipython",
    "version": 3
   },
   "file_extension": ".py",
   "mimetype": "text/x-python",
   "name": "python",
   "nbconvert_exporter": "python",
   "pygments_lexer": "ipython3",
   "version": "3.10.6"
  }
 },
 "nbformat": 4,
 "nbformat_minor": 5
}
