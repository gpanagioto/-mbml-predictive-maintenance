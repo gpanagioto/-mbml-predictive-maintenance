{
 "cells": [
  {
   "cell_type": "code",
   "execution_count": null,
   "id": "f0e4d804",
   "metadata": {},
   "outputs": [],
   "source": [
    "import pandas as pd\n",
    "import numpy as np\n",
    "import matplotlib.pyplot as plt\n",
    "\n",
    "from pathlib import Path\n",
    "\n",
    "from sklearn.model_selection import train_test_split\n",
    "\n",
    "import torch\n",
    "\n",
    "import seaborn as sns\n",
    "\n",
    "import pyro\n",
    "import pyro.distributions as dist\n",
    "from pyro.contrib.autoguide import AutoDiagonalNormal, AutoMultivariateNormal\n",
    "from pyro.infer import MCMC, NUTS, HMC, SVI, Trace_ELBO\n",
    "from pyro.optim import Adam, ClippedAdam\n",
    "from pyro.infer import Predictive\n",
    "\n",
    "import os"
   ]
  },
  {
   "cell_type": "code",
   "execution_count": null,
   "id": "2ad545c3",
   "metadata": {},
   "outputs": [],
   "source": [
    "%load_ext autoreload\n",
    "%autoreload 2\n",
    "from __init__ import root_dir, data_path, src_path\n",
    "from src.models.models import model, compute_error, get_data_for_component"
   ]
  },
  {
   "cell_type": "code",
   "execution_count": null,
   "id": "cc39f84b",
   "metadata": {},
   "outputs": [],
   "source": [
    "os.path.abspath(root_dir)"
   ]
  },
  {
   "cell_type": "code",
   "execution_count": null,
   "id": "1d055e52",
   "metadata": {},
   "outputs": [],
   "source": [
    "data = pd.read_csv(os.path.join(data_path,'processed','data_processed.csv'))"
   ]
  },
  {
   "cell_type": "code",
   "execution_count": null,
   "id": "de39ebd5",
   "metadata": {},
   "outputs": [],
   "source": [
    "data.columns"
   ]
  },
  {
   "cell_type": "code",
   "execution_count": null,
   "id": "9c926a05",
   "metadata": {},
   "outputs": [],
   "source": [
    "data.drop(['Unnamed: 0'], axis=1, inplace=True)\n",
    "data.dropna(axis=0, inplace=True)"
   ]
  },
  {
   "cell_type": "code",
   "execution_count": null,
   "id": "4d439da9",
   "metadata": {},
   "outputs": [],
   "source": [
    "data['datetime'] = pd.to_datetime(data['datetime'])"
   ]
  },
  {
   "cell_type": "markdown",
   "id": "aff28058",
   "metadata": {},
   "source": [
    "Try linear regression with one target variable each time, the continuous variable `comp<i>_life` where i in (1,4)"
   ]
  },
  {
   "cell_type": "code",
   "execution_count": null,
   "id": "1c363fea",
   "metadata": {},
   "outputs": [],
   "source": [
    "components = [\"comp\"+str(i)+\"_life\" for i in range(1,5)]"
   ]
  },
  {
   "cell_type": "code",
   "execution_count": null,
   "id": "082a7dbe",
   "metadata": {},
   "outputs": [],
   "source": [
    "components"
   ]
  },
  {
   "cell_type": "code",
   "execution_count": null,
   "id": "748fbce0",
   "metadata": {},
   "outputs": [],
   "source": [
    "X = get_data_for_component(data, components[0]).to_numpy()\n",
    "\n",
    "# Keep the last column as target y\n",
    "y = X[:,-1]\n",
    "X = X[:,:-1]"
   ]
  },
  {
   "cell_type": "markdown",
   "id": "d940170f",
   "metadata": {},
   "source": [
    "Scaling or Normalizing our data by substracting the mean value and dividing with the std."
   ]
  },
  {
   "cell_type": "code",
   "execution_count": null,
   "id": "db9094f8",
   "metadata": {},
   "outputs": [],
   "source": [
    "X_train_unsc, X_test_unsc, y_train_unsc, y_test_unsc = train_test_split(X, y, test_size=0.2, random_state=0)"
   ]
  },
  {
   "cell_type": "code",
   "execution_count": null,
   "id": "de0267f5",
   "metadata": {},
   "outputs": [],
   "source": [
    "X_mean = X_train_unsc.mean(axis=0)\n",
    "X_std = X_train_unsc.std(axis=0)\n",
    "\n",
    "y_std = y_train_unsc.std()\n",
    "y_mean = y_train_unsc.mean()"
   ]
  },
  {
   "cell_type": "code",
   "execution_count": null,
   "id": "484427be",
   "metadata": {},
   "outputs": [],
   "source": [
    "X_train = (X_train_unsc - X_mean)/ X_std\n",
    "X_test = (X_test_unsc - X_mean)/X_std\n",
    "\n",
    "y_train = (y_train_unsc- y_mean)/ y_std \n",
    "y_test = (y_test_unsc- y_mean)/y_std"
   ]
  },
  {
   "cell_type": "code",
   "execution_count": null,
   "id": "21a0c1df",
   "metadata": {},
   "outputs": [],
   "source": [
    "# # Prepare data for Pyro model\n",
    "X_train_torch = torch.tensor(X_train).float()\n",
    "y_train_torch = torch.tensor(y_train).float()"
   ]
  },
  {
   "cell_type": "code",
   "execution_count": null,
   "id": "6be68797",
   "metadata": {},
   "outputs": [],
   "source": [
    "guide = AutoMultivariateNormal(model)\n",
    "\n",
    "pyro.clear_param_store()"
   ]
  },
  {
   "cell_type": "code",
   "execution_count": null,
   "id": "9e4b71db",
   "metadata": {},
   "outputs": [],
   "source": [
    "# Run inference in Pyro\n",
    "nuts_kernel = NUTS(model)\n",
    "mcmc = MCMC(nuts_kernel, num_samples=1000, warmup_steps=200, num_chains=1)\n",
    "mcmc.run(X_train_torch, y_train_torch)\n",
    "\n",
    "# Show summary of inference results\n",
    "mcmc.summary()"
   ]
  },
  {
   "cell_type": "code",
   "execution_count": null,
   "id": "cf1e4ec8",
   "metadata": {},
   "outputs": [],
   "source": [
    "# Extract samples from posterior\n",
    "posterior_samples = mcmc.get_samples()\n",
    "\n",
    "sns.kdeplot(posterior_samples[\"alpha\"])\n",
    "sns.kdeplot(posterior_samples[\"sigma\"])\n",
    "\n",
    "# Alternative\n",
    "#sns.histplot(data=posterior_samples[\"alpha\"], kde=True, stat='density', color=next(palette), element=\"step\")\n",
    "#sns.histplot(data=posterior_samples[\"sigma\"], kde=True, stat='density', color=next(palette), element=\"step\")\n",
    "\n",
    "plt.legend([\"alpha\", \"sigma\"])\n",
    "#plt.axis([-2,2,0,5])\n",
    "plt.show()"
   ]
  },
  {
   "cell_type": "code",
   "execution_count": null,
   "id": "8e3da5be",
   "metadata": {},
   "outputs": [],
   "source": [
    "for i in range(X.shape[1]):\n",
    "    sns.kdeplot(posterior_samples[\"beta\"][:,i])\n",
    "\n",
    "    # Alternative to avoid warnings\n",
    "    #sns.histplot(posterior_samples[\"beta\"][:,i], kde=True, color=next(palette), stat='density', element='step')\n",
    "\n",
    "#plt.legend([\"b%d\" % i for i in range(X.shape[1])])\n",
    "#plt.axis([-2,2,0,5])\n",
    "plt.show()"
   ]
  },
  {
   "cell_type": "code",
   "execution_count": null,
   "id": "575e38d2",
   "metadata": {},
   "outputs": [],
   "source": [
    "# Extract samples from posterior\n",
    "posterior_samples = mcmc.get_samples()\n",
    "\n",
    "# Compute predictions\n",
    "y_hat = np.mean(posterior_samples[\"alpha\"].numpy().T + np.dot(X_test, posterior_samples[\"beta\"].numpy().T), axis=1)\n",
    "y_hat_train = np.mean(posterior_samples[\"alpha\"].numpy().T + np.dot(X_train, posterior_samples[\"beta\"].numpy().T), axis=1)"
   ]
  },
  {
   "cell_type": "code",
   "execution_count": null,
   "id": "1df45f7e",
   "metadata": {},
   "outputs": [],
   "source": [
    "predictive = Predictive(model, guide=guide, num_samples=1000,\n",
    "                        return_sites=(\"alpha\", \"beta\", \"sigma\"))\n",
    "samples = predictive(X_train_torch, y_train_torch)"
   ]
  },
  {
   "cell_type": "code",
   "execution_count": null,
   "id": "27b230dc",
   "metadata": {},
   "outputs": [],
   "source": [
    "# Convert back to the original scale\n",
    "preds = y_hat * y_std + y_mean\n",
    "preds_train = y_hat_train * y_std + y_mean\n",
    "y_true = y_test * y_std + y_mean"
   ]
  },
  {
   "cell_type": "code",
   "execution_count": null,
   "id": "f2b044b5",
   "metadata": {},
   "outputs": [],
   "source": [
    "corr, mae, rae, rmse, r2, y_true, preds = compute_error(y_true, preds, None)\n",
    "print(\"CorrCoef: %.3f\\nMAE: %.3f\\nRMSE: %.3f\\nR2: %.3f\" % (corr, mae, rmse, r2))"
   ]
  },
  {
   "cell_type": "code",
   "execution_count": null,
   "id": "742f6ac4",
   "metadata": {},
   "outputs": [],
   "source": [
    "fig = plt.figure(figsize=(20,10))\n",
    "\n",
    "start = 300\n",
    "end = 600\n",
    "\n",
    "plt.plot(y_true[np.where(preds>=0)], 'r-', label = 'test')\n",
    "plt.plot(preds[np.where(preds>=0)], 'b-', label = 'pred')\n",
    "\n",
    "plt.legend()\n",
    "\n",
    "plt.show()\n"
   ]
  },
  {
   "cell_type": "code",
   "execution_count": null,
   "id": "289e1ac8",
   "metadata": {},
   "outputs": [],
   "source": [
    "corr, mae, rae, rmse, r2, yy_true, ppreds = compute_error(y_true, preds, 60)\n",
    "print(\"CorrCoef: %.3f\\nMAE: %.3f\\nRMSE: %.3f\\nR2: %.3f\" % (corr, mae, rmse, r2))"
   ]
  },
  {
   "cell_type": "code",
   "execution_count": null,
   "id": "88623096",
   "metadata": {},
   "outputs": [],
   "source": [
    "fig = plt.figure(figsize=(20,10))\n",
    "\n",
    "start = 400\n",
    "end = 600\n",
    "\n",
    "plt.plot(yy_true[np.where(ppreds>=0)], 'r-', label = 'test')\n",
    "plt.plot(ppreds[np.where(ppreds>=0)], 'b-', label = 'pred')\n",
    "\n",
    "plt.legend()\n",
    "\n",
    "plt.show()"
   ]
  },
  {
   "cell_type": "code",
   "execution_count": null,
   "id": "8c472936",
   "metadata": {},
   "outputs": [],
   "source": []
  }
 ],
 "metadata": {
  "kernelspec": {
   "display_name": "mbml",
   "language": "python",
   "name": "mbml"
  },
  "language_info": {
   "codemirror_mode": {
    "name": "ipython",
    "version": 3
   },
   "file_extension": ".py",
   "mimetype": "text/x-python",
   "name": "python",
   "nbconvert_exporter": "python",
   "pygments_lexer": "ipython3",
   "version": "3.10.6"
  }
 },
 "nbformat": 4,
 "nbformat_minor": 5
}
