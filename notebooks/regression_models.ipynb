{
 "cells": [
  {
   "cell_type": "code",
   "execution_count": 1,
   "id": "a81753ff",
   "metadata": {},
   "outputs": [],
   "source": [
    "import pandas as pd\n",
    "import numpy as np\n",
    "import matplotlib.pyplot as plt\n",
    "from pathlib import Path\n",
    "from sklearn.model_selection import train_test_split\n",
    "from pyro.infer import Predictive\n",
    "import torch\n",
    "import seaborn as sns\n",
    "import pyro\n",
    "import pyro.distributions as dist\n",
    "from pyro.contrib.autoguide import AutoDiagonalNormal, AutoMultivariateNormal\n",
    "from pyro.infer import MCMC, NUTS, HMC, SVI, Trace_ELBO\n",
    "from pyro.optim import ClippedAdam\n",
    "from tqdm.autonotebook import tqdm\n",
    "from IPython.display import clear_output\n",
    "import os"
   ]
  },
  {
   "cell_type": "code",
   "execution_count": 2,
   "id": "07a8bdd1",
   "metadata": {},
   "outputs": [],
   "source": [
    "from typing import List, Tuple\n",
    "from numpy.typing import ArrayLike\n",
    "from pandas import DataFrame"
   ]
  },
  {
   "cell_type": "markdown",
   "id": "2e520ad1",
   "metadata": {},
   "source": [
    "Helper functions to create windowd dataset with lad and/or lead features"
   ]
  },
  {
   "cell_type": "code",
   "execution_count": 3,
   "id": "4554d196",
   "metadata": {},
   "outputs": [],
   "source": [
    "def split(data,ToRemove,target,features_to_use,perc=0.8,clean=False):\n",
    "    features = [c for c in data.columns if not (c in ToRemove or c in target)]\n",
    "    features = features_to_use\n",
    "    if clean==True:\n",
    "        return data[features],data[target]\n",
    "    \n",
    "    machines = pd.read_csv('../data/raw2/PdM_machines.csv')\n",
    "    x_train_,x_test_,y_train_,y_test_,train_idx,test_idx = train_test_split(machines, machines.model, machines.machineID.index, test_size=0.2, stratify=machines.model, random_state=42)\n",
    "    \n",
    "    print(y_test_.value_counts())\n",
    "    print(y_train_.value_counts())\n",
    "    print(machines.model.value_counts())\n",
    "\n",
    "    training=data[data['machineID'].isin(train_idx)]\n",
    "    test=data[data['machineID'].isin(test_idx)]\n",
    "    x_train=training[features]\n",
    "    y_train=training[target]\n",
    "    x_test=test[features]\n",
    "    y_test=test[target]\n",
    "    \n",
    "    print(x_train.shape,y_train.shape,x_test.shape,y_test.shape)\n",
    "    return x_train,y_train,x_test,y_test"
   ]
  },
  {
   "cell_type": "code",
   "execution_count": 4,
   "id": "2ebc2b10",
   "metadata": {},
   "outputs": [],
   "source": [
    "def get_lag_columns(columns: List[str], lag_steps: int) -> List[str]:\n",
    "    \"\"\"\n",
    "    Returns the new title columns, by adding the lag number\n",
    "    Includes the initial column names in the end.\n",
    "    \"\"\"\n",
    "    new_columns = []\n",
    "    for i in range(lag_steps, 0, -1):\n",
    "        new_columns += [col_title + f\"-{i}\" for col_title in columns]\n",
    "\n",
    "    new_columns += columns\n",
    "    return new_columns\n",
    "\n",
    "\n",
    "def get_lead_columns(columns: List[str], lead_steps: int) -> List[str]:\n",
    "    \"\"\"\n",
    "    Returns the new title columns, by adding the lead number\n",
    "    Includes the initial column names in the beginning.\n",
    "    \"\"\"\n",
    "    new_columns = []\n",
    "    new_columns += columns\n",
    "    for i in range(1, lead_steps + 1):\n",
    "        new_columns += [col_title + f\"+{i}\" for col_title in columns]\n",
    "\n",
    "    return new_columns"
   ]
  },
  {
   "cell_type": "code",
   "execution_count": 5,
   "id": "30303b96",
   "metadata": {},
   "outputs": [],
   "source": [
    "def windowed_df_lag(df: DataFrame, columns_to_lag: List[str], lag_steps: int):\n",
    "    temp_df = df[columns_to_lag]\n",
    "\n",
    "    for i in range(1, lag_steps + 1):\n",
    "        tmp = df[columns_to_lag].shift(i)\n",
    "        temp_df = pd.concat([tmp, temp_df], axis=1)\n",
    "\n",
    "    temp_df.columns = get_lag_columns(columns_to_lag, lag_steps)\n",
    "\n",
    "    return temp_df.iloc[lag_steps:, :]\n",
    "\n",
    "\n",
    "def windowed_df_lead(\n",
    "    df: DataFrame, columns_to_lead: List[str], lead_steps: int\n",
    ") -> DataFrame:\n",
    "    temp_df = df[columns_to_lead]\n",
    "\n",
    "    for i in range(1, lead_steps + 1):\n",
    "        tmp = df[columns_to_lead].shift(-i)\n",
    "        temp_df = pd.concat([tmp, temp_df], axis=1)\n",
    "\n",
    "    temp_df.columns = get_lead_columns(columns_to_lead, lead_steps)\n",
    "\n",
    "    return temp_df.iloc[:-lead_steps, :]\n",
    "\n",
    "\n"
   ]
  },
  {
   "cell_type": "code",
   "execution_count": 6,
   "id": "2d67b1eb",
   "metadata": {},
   "outputs": [],
   "source": [
    "def create_windowed_df_per_machine(\n",
    "    df: DataFrame,\n",
    "    columns_to_lag: List[str],\n",
    "    columns_to_lead: List[str],\n",
    "    lag_steps: int,\n",
    "    lead_steps: int,\n",
    ") -> Tuple[DataFrame, ArrayLike]:\n",
    "    if lag_steps == 0:\n",
    "        lag_df = df[columns_to_lag]\n",
    "    else:\n",
    "        lag_df = windowed_df_lag(df, columns_to_lag, lag_steps)\n",
    "\n",
    "    if lead_steps == 0:\n",
    "        lead_df = df[columns_to_lead]\n",
    "    else:\n",
    "        lead_df = windowed_df_lead(df, columns_to_lead, lead_steps)\n",
    "\n",
    "    if lead_steps > 0:\n",
    "        lag_df = lag_df.iloc[:-lead_steps, :]\n",
    "\n",
    "    if lag_steps > 0:\n",
    "        lead_df = lead_df.iloc[lag_steps:, :]\n",
    "\n",
    "    final_df = pd.concat([lag_df, lead_df], axis=1)\n",
    "\n",
    "    return final_df, final_df.index.to_numpy()\n",
    "\n",
    "\n",
    "def create_windowed_df(\n",
    "    df: DataFrame,\n",
    "    id_col: str,\n",
    "    columns_to_lag: List[str],\n",
    "    columns_to_lead: List[str],\n",
    "    lag_steps: int,\n",
    "    lead_steps: int,\n",
    ") -> Tuple[DataFrame, ArrayLike]:\n",
    "    \"\"\"\n",
    "    Return telemetry data per id_col\n",
    "    \"\"\"\n",
    "\n",
    "    unique_ids = df[id_col].unique()\n",
    "\n",
    "    for i, id_ in enumerate(unique_ids):\n",
    "        df_id = df.loc[df[id_col] == id_]\n",
    "\n",
    "        df_id = df_id.reset_index(drop=True)\n",
    "\n",
    "        telemetry_df, idx = create_windowed_df_per_machine(\n",
    "            df_id, columns_to_lag, columns_to_lead, lag_steps, lead_steps\n",
    "        )\n",
    "\n",
    "        # Drop all columns used for telemetry lead and lag\n",
    "        df_rest = df_id.drop(columns_to_lag + columns_to_lead, axis=1)\n",
    "\n",
    "        df_rest = df_rest.iloc[idx, :]\n",
    "\n",
    "        # Combine the reduced column with the lead-lagged telemtry dataframe\n",
    "        tmp_df = pd.concat([df_rest, telemetry_df], axis=1)\n",
    "\n",
    "        # Stack for each machine the recreated dataframe.\n",
    "        # If it is the fist time the loop runs, create the new dataframe with the first recreated df\n",
    "        if i == 0:\n",
    "            final_df = tmp_df.copy()\n",
    "        else:\n",
    "            final_df = pd.concat([final_df, tmp_df], axis=0)\n",
    "\n",
    "    final_df.reset_index(inplace=True, drop=True)\n",
    "    return final_df"
   ]
  },
  {
   "cell_type": "markdown",
   "id": "d1b0e36f",
   "metadata": {},
   "source": [
    "Load the processed dataset"
   ]
  },
  {
   "cell_type": "code",
   "execution_count": 7,
   "id": "a8342f9b",
   "metadata": {},
   "outputs": [],
   "source": [
    "data = pd.read_csv(os.path.join('..', 'data','processed','data_processed.csv'))"
   ]
  },
  {
   "cell_type": "code",
   "execution_count": 8,
   "id": "99f35134",
   "metadata": {},
   "outputs": [],
   "source": [
    "data.drop(columns=['Unnamed: 0'], axis=1, inplace=True)"
   ]
  },
  {
   "cell_type": "code",
   "execution_count": 9,
   "id": "2aca7b4d",
   "metadata": {},
   "outputs": [],
   "source": [
    "data.datetime = pd.to_datetime(data.datetime, format=\"%Y-%m-%d %H:%M:%S\")"
   ]
  },
  {
   "cell_type": "code",
   "execution_count": 10,
   "id": "4caa0d73",
   "metadata": {},
   "outputs": [
    {
     "data": {
      "text/plain": [
       "Index(['machineID', 'datetime', 'voltmean_3h', 'rotatemean_3h',\n",
       "       'pressuremean_3h', 'vibrationmean_3h', 'voltsd_3h', 'rotatesd_3h',\n",
       "       'pressuresd_3h', 'vibrationsd_3h', 'voltmean_24h', 'rotatemean_24h',\n",
       "       'pressuremean_24h', 'vibrationmean_24h', 'voltsd_24h', 'rotatesd_24h',\n",
       "       'pressuresd_24h', 'vibrationsd_24h', 'error1count', 'error2count',\n",
       "       'error3count', 'error4count', 'error5count', 'comp1', 'comp2', 'comp3',\n",
       "       'comp4', 'comp1_life', 'comp2_life', 'comp3_life', 'comp4_life', 'age',\n",
       "       'model_model1', 'model_model2', 'model_model3', 'model_model4',\n",
       "       'failure', 'comp1_fail', 'comp2_fail', 'comp3_fail', 'comp4_fail'],\n",
       "      dtype='object')"
      ]
     },
     "execution_count": 10,
     "metadata": {},
     "output_type": "execute_result"
    }
   ],
   "source": [
    "data.columns"
   ]
  },
  {
   "cell_type": "markdown",
   "id": "285230c7",
   "metadata": {},
   "source": [
    "Test linear regression algorithm for `machineID` = 1 and for target `y=comp1_life`."
   ]
  },
  {
   "cell_type": "code",
   "execution_count": 11,
   "id": "bdf45ffe",
   "metadata": {},
   "outputs": [],
   "source": [
    "TELEMETRY_COLUMNS = ['voltmean_3h', 'rotatemean_3h',\n",
    "       'pressuremean_3h', 'vibrationmean_3h', 'voltsd_3h', 'rotatesd_3h',\n",
    "       'pressuresd_3h', 'vibrationsd_3h', 'voltmean_24h', 'rotatemean_24h',\n",
    "       'pressuremean_24h', 'vibrationmean_24h', 'voltsd_24h', 'rotatesd_24h',\n",
    "       'pressuresd_24h', 'vibrationsd_24h']\n",
    "target = [\"comp1_life\"]\n",
    "\n",
    "tst_df = create_windowed_df(data, \"machineID\", TELEMETRY_COLUMNS, target, 0, 0)"
   ]
  },
  {
   "cell_type": "code",
   "execution_count": 12,
   "id": "b593d9c8",
   "metadata": {},
   "outputs": [
    {
     "data": {
      "text/plain": [
       "Index(['machineID', 'datetime', 'error1count', 'error2count', 'error3count',\n",
       "       'error4count', 'error5count', 'comp1', 'comp2', 'comp3', 'comp4',\n",
       "       'comp2_life', 'comp3_life', 'comp4_life', 'age', 'model_model1',\n",
       "       'model_model2', 'model_model3', 'model_model4', 'failure', 'comp1_fail',\n",
       "       'comp2_fail', 'comp3_fail', 'comp4_fail', 'voltmean_3h',\n",
       "       'rotatemean_3h', 'pressuremean_3h', 'vibrationmean_3h', 'voltsd_3h',\n",
       "       'rotatesd_3h', 'pressuresd_3h', 'vibrationsd_3h', 'voltmean_24h',\n",
       "       'rotatemean_24h', 'pressuremean_24h', 'vibrationmean_24h', 'voltsd_24h',\n",
       "       'rotatesd_24h', 'pressuresd_24h', 'vibrationsd_24h', 'comp1_life'],\n",
       "      dtype='object')"
      ]
     },
     "execution_count": 12,
     "metadata": {},
     "output_type": "execute_result"
    }
   ],
   "source": [
    "tst_df.columns"
   ]
  },
  {
   "cell_type": "code",
   "execution_count": 13,
   "id": "228e9d20",
   "metadata": {},
   "outputs": [],
   "source": [
    "# data_1 = tst_df.loc[data.machineID==1]\n",
    "data_1 = tst_df.copy()"
   ]
  },
  {
   "cell_type": "code",
   "execution_count": 14,
   "id": "997f60f5",
   "metadata": {},
   "outputs": [],
   "source": [
    "# list(data_1.columns)[24:-1]"
   ]
  },
  {
   "cell_type": "code",
   "execution_count": 15,
   "id": "d1f55b70",
   "metadata": {},
   "outputs": [],
   "source": [
    "feat_cols = ['comp1', 'comp2', 'comp3',\n",
    "       'comp4''voltmean_3h', 'rotatemean_3h',\n",
    "       'pressuremean_3h', 'vibrationmean_3h', 'voltsd_3h', 'rotatesd_3h',\n",
    "       'pressuresd_3h', 'vibrationsd_3h', 'voltmean_24h', 'rotatemean_24h',\n",
    "       'pressuremean_24h', 'vibrationmean_24h', 'voltsd_24h', 'rotatesd_24h',\n",
    "       'pressuresd_24h', 'vibrationsd_24h', 'error1count', 'error2count',\n",
    "       'error3count', 'error4count', 'error5count','age',\n",
    "       'model_model1', 'model_model2', 'model_model3', 'model_model4']\n",
    "\n",
    "feat_cols = ['error1count', 'error2count',\n",
    "       'error3count', 'error4count', 'error5count','age',\n",
    "       'model_model1', 'model_model2', 'model_model3', 'model_model4']\n",
    "\n",
    "wind_used_cols = list(data_1.columns)[24:-1]\n",
    "\n",
    "feat_cols = feat_cols + wind_used_cols\n",
    "\n",
    "target = ['comp1_life']"
   ]
  },
  {
   "cell_type": "code",
   "execution_count": 16,
   "id": "ab6c6e3b",
   "metadata": {},
   "outputs": [],
   "source": [
    "data_1_red = data_1[feat_cols+target]\n"
   ]
  },
  {
   "cell_type": "code",
   "execution_count": 17,
   "id": "dadd7b64",
   "metadata": {},
   "outputs": [
    {
     "data": {
      "text/plain": [
       "(290642, 27)"
      ]
     },
     "execution_count": 17,
     "metadata": {},
     "output_type": "execute_result"
    }
   ],
   "source": [
    "data_1_red.shape"
   ]
  },
  {
   "cell_type": "code",
   "execution_count": 18,
   "id": "653c0ade",
   "metadata": {},
   "outputs": [
    {
     "name": "stderr",
     "output_type": "stream",
     "text": [
      "/tmp/ipykernel_8625/3848255571.py:1: SettingWithCopyWarning: \n",
      "A value is trying to be set on a copy of a slice from a DataFrame\n",
      "\n",
      "See the caveats in the documentation: https://pandas.pydata.org/pandas-docs/stable/user_guide/indexing.html#returning-a-view-versus-a-copy\n",
      "  data_1_red.dropna(inplace=True)\n"
     ]
    }
   ],
   "source": [
    "data_1_red.dropna(inplace=True)"
   ]
  },
  {
   "cell_type": "code",
   "execution_count": 19,
   "id": "becb0cda",
   "metadata": {},
   "outputs": [],
   "source": [
    "X = data_1_red[feat_cols].values\n",
    "y = data_1_red[target].values\n",
    "\n",
    "n, p = X.shape"
   ]
  },
  {
   "cell_type": "markdown",
   "id": "26f5466a",
   "metadata": {},
   "source": [
    "Split to train and test data. Use the split from John afterwards"
   ]
  },
  {
   "cell_type": "code",
   "execution_count": 20,
   "id": "0754b95a",
   "metadata": {},
   "outputs": [
    {
     "name": "stdout",
     "output_type": "stream",
     "text": [
      "X_train shape: (207827, 26), X_test shape: (51957, 26)\n",
      "y_train shape: (207827,), y_test shape: (51957,)\n"
     ]
    }
   ],
   "source": [
    "train_ratio = 0.8\n",
    "train_idx = int(train_ratio*n)\n",
    "X_train = X[:train_idx]\n",
    "X_test = X[train_idx:]\n",
    "\n",
    "y_train = y[:train_idx].flatten()\n",
    "y_test = y[train_idx:].flatten()\n",
    "\n",
    "print(f\"X_train shape: {X_train.shape}, X_test shape: {X_test.shape}\")\n",
    "print(f\"y_train shape: {y_train.shape}, y_test shape: {y_test.shape}\")"
   ]
  },
  {
   "cell_type": "markdown",
   "id": "78e7ce9b",
   "metadata": {},
   "source": [
    "Standardize the datasets"
   ]
  },
  {
   "cell_type": "code",
   "execution_count": 21,
   "id": "52204894",
   "metadata": {},
   "outputs": [],
   "source": [
    "init_els_non_std = 0\n",
    "\n",
    "X_mean = X_train[:, init_els_non_std:].mean(axis=0)\n",
    "X_std = X_train[:,init_els_non_std:].std(axis=0)\n",
    "\n",
    "y_mean = y_train.mean(axis=0)\n",
    "y_std = y_train.std(axis=0)"
   ]
  },
  {
   "cell_type": "code",
   "execution_count": 22,
   "id": "c8238a83",
   "metadata": {},
   "outputs": [],
   "source": [
    "X_train_n = X_train.copy()\n",
    "X_train_n[:,:] = (X_train[:,init_els_non_std:]-X_mean)/X_std\n",
    "\n",
    "X_test_n = X_test.copy()\n",
    "X_test_n[:,init_els_non_std:] = (X_test[:,init_els_non_std:]-X_mean)/X_std\n",
    "\n",
    "y_train_n = (y_train-y_mean)/y_std\n",
    "y_test_n = (y_test-y_mean)/y_std"
   ]
  },
  {
   "cell_type": "code",
   "execution_count": 23,
   "id": "62b53131",
   "metadata": {},
   "outputs": [
    {
     "name": "stdout",
     "output_type": "stream",
     "text": [
      "X_train shape: (207827, 26)\n",
      "y_train shape: (207827,)\n"
     ]
    }
   ],
   "source": [
    "# Prepare data for Pyro model\n",
    "X_train_torch = torch.tensor(X_train_n).float()\n",
    "y_train_torch = torch.tensor(y_train_n).float()\n",
    "\n",
    "print(f\"X_train shape: {X_train_n.shape}\")\n",
    "print(f\"y_train shape: {y_train_n.shape}\")"
   ]
  },
  {
   "cell_type": "code",
   "execution_count": 24,
   "id": "d5d80e3c",
   "metadata": {},
   "outputs": [],
   "source": [
    "def compute_error(trues, predicted):\n",
    "    corr = np.corrcoef(predicted, trues)[0,1]\n",
    "    mae = np.mean(np.abs(predicted - trues))\n",
    "    rae = np.sum(np.abs(predicted - trues)) / np.sum(np.abs(trues - np.mean(trues)))\n",
    "    rmse = np.sqrt(np.mean((predicted - trues)**2))\n",
    "    r2 = max(0, 1 - np.sum((trues-predicted)**2) / np.sum((trues - np.mean(trues))**2))\n",
    "    return corr, mae, rae, rmse, r2"
   ]
  },
  {
   "cell_type": "code",
   "execution_count": 25,
   "id": "72d4cd5a",
   "metadata": {},
   "outputs": [],
   "source": [
    "def model(X, obs=None):\n",
    "    \n",
    "    lmbd = 5\n",
    "    \n",
    "    alpha = pyro.sample(\"alpha\", dist.Normal(0., lmbd*1.))                   # Prior for the bias/intercept\n",
    "    beta  = pyro.sample(\"beta\", dist.Normal(torch.zeros(X.shape[1]), \n",
    "                                            lmbd*torch.ones(X.shape[1])).to_event())    # Priors for the regression coeffcients\n",
    "    sigma = pyro.sample(\"sigma\", dist.HalfCauchy(5.))                   # Prior for the variance\n",
    "    \n",
    "    with pyro.plate(\"data\"):\n",
    "        y = pyro.sample(\"y\", dist.Normal(alpha + X.matmul(beta), sigma), obs=obs)\n",
    "        \n",
    "    return y"
   ]
  },
  {
   "cell_type": "code",
   "execution_count": 26,
   "id": "abd12138",
   "metadata": {},
   "outputs": [],
   "source": [
    "# Define guide function\n",
    "guide = AutoMultivariateNormal(model)\n",
    "\n",
    "# Reset parameter values\n",
    "pyro.clear_param_store()"
   ]
  },
  {
   "cell_type": "code",
   "execution_count": 27,
   "id": "c45efc39",
   "metadata": {},
   "outputs": [],
   "source": [
    "# Define the number of optimization steps\n",
    "n_steps = 10000\n",
    "\n",
    "# Setup the optimizer\n",
    "adam_params = {\"lr\": 0.01} # learning rate (lr) of optimizer\n",
    "optimizer = ClippedAdam(adam_params)\n",
    "\n",
    "# Setup the inference algorithm\n",
    "elbo = Trace_ELBO(num_particles=1)\n",
    "svi = SVI(model, guide, optimizer, loss=elbo)"
   ]
  },
  {
   "cell_type": "code",
   "execution_count": 28,
   "id": "280d1bf3",
   "metadata": {},
   "outputs": [
    {
     "name": "stdout",
     "output_type": "stream",
     "text": [
      "[0] ELBO: 807037.8\n",
      "[100] ELBO: 556234.0\n",
      "[200] ELBO: 404254.7\n",
      "[300] ELBO: 302419.1\n",
      "[400] ELBO: 296368.3\n",
      "[500] ELBO: 294867.2\n",
      "[600] ELBO: 294871.3\n",
      "[700] ELBO: 294578.4\n",
      "[800] ELBO: 294456.1\n",
      "[900] ELBO: 294536.2\n",
      "[1000] ELBO: 294465.5\n",
      "[1100] ELBO: 294453.7\n",
      "[1200] ELBO: 294443.5\n",
      "[1300] ELBO: 294443.2\n",
      "[1400] ELBO: 294450.2\n",
      "[1500] ELBO: 294463.5\n",
      "[1600] ELBO: 294449.6\n",
      "[1700] ELBO: 294459.0\n",
      "[1800] ELBO: 294455.8\n",
      "[1900] ELBO: 294476.8\n",
      "[2000] ELBO: 294441.4\n",
      "[2100] ELBO: 294441.3\n",
      "[2200] ELBO: 294458.2\n",
      "[2300] ELBO: 294448.5\n",
      "[2400] ELBO: 294458.2\n",
      "[2500] ELBO: 294468.3\n",
      "[2600] ELBO: 294440.4\n",
      "[2700] ELBO: 294449.4\n",
      "[2800] ELBO: 294465.0\n",
      "[2900] ELBO: 294458.2\n",
      "[3000] ELBO: 294460.4\n",
      "[3100] ELBO: 294420.6\n",
      "[3200] ELBO: 294453.5\n",
      "[3300] ELBO: 294455.7\n",
      "[3400] ELBO: 294455.0\n",
      "[3500] ELBO: 294421.4\n",
      "[3600] ELBO: 294453.8\n",
      "[3700] ELBO: 294448.2\n",
      "[3800] ELBO: 294432.2\n",
      "[3900] ELBO: 294442.1\n",
      "[4000] ELBO: 294446.2\n",
      "[4100] ELBO: 294465.1\n",
      "[4200] ELBO: 294452.8\n",
      "[4300] ELBO: 294448.2\n",
      "[4400] ELBO: 294441.2\n",
      "[4500] ELBO: 294433.2\n",
      "[4600] ELBO: 294436.9\n",
      "[4700] ELBO: 294455.7\n",
      "[4800] ELBO: 294452.4\n",
      "[4900] ELBO: 294445.3\n",
      "[5000] ELBO: 294455.1\n",
      "[5100] ELBO: 294473.6\n",
      "[5200] ELBO: 294473.3\n",
      "[5300] ELBO: 294477.1\n",
      "[5400] ELBO: 294479.7\n",
      "[5500] ELBO: 294451.6\n",
      "[5600] ELBO: 294482.4\n",
      "[5700] ELBO: 294435.1\n",
      "[5800] ELBO: 294454.9\n",
      "[5900] ELBO: 294463.6\n",
      "[6000] ELBO: 294444.4\n",
      "[6100] ELBO: 294465.0\n",
      "[6200] ELBO: 294425.3\n",
      "[6300] ELBO: 294435.3\n",
      "[6400] ELBO: 294451.8\n",
      "[6500] ELBO: 294472.5\n",
      "[6600] ELBO: 294435.1\n",
      "[6700] ELBO: 294481.4\n",
      "[6800] ELBO: 294459.6\n",
      "[6900] ELBO: 294458.4\n",
      "[7000] ELBO: 294431.7\n",
      "[7100] ELBO: 294478.7\n",
      "[7200] ELBO: 294464.8\n",
      "[7300] ELBO: 294458.9\n",
      "[7400] ELBO: 294445.0\n",
      "[7500] ELBO: 294438.5\n",
      "[7600] ELBO: 294445.6\n",
      "[7700] ELBO: 294464.6\n",
      "[7800] ELBO: 294465.5\n",
      "[7900] ELBO: 294438.7\n",
      "[8000] ELBO: 294436.3\n",
      "[8100] ELBO: 294432.9\n",
      "[8200] ELBO: 294441.6\n",
      "[8300] ELBO: 294450.4\n",
      "[8400] ELBO: 294459.0\n",
      "[8500] ELBO: 294470.7\n",
      "[8600] ELBO: 294519.5\n",
      "[8700] ELBO: 294436.2\n",
      "[8800] ELBO: 294454.5\n",
      "[8900] ELBO: 294444.9\n",
      "[9000] ELBO: 294476.9\n",
      "[9100] ELBO: 294487.5\n",
      "[9200] ELBO: 294435.0\n",
      "[9300] ELBO: 294452.7\n",
      "[9400] ELBO: 294444.8\n",
      "[9500] ELBO: 294440.9\n",
      "[9600] ELBO: 294444.5\n",
      "[9700] ELBO: 294457.5\n",
      "[9800] ELBO: 294461.4\n",
      "[9900] ELBO: 294447.5\n"
     ]
    }
   ],
   "source": [
    "# Do gradient steps\n",
    "for step in range(n_steps):\n",
    "    elbo = svi.step(X_train_torch, y_train_torch)\n",
    "    if step % 100 == 0:\n",
    "        print(\"[%d] ELBO: %.1f\" % (step, elbo))"
   ]
  },
  {
   "cell_type": "code",
   "execution_count": 29,
   "id": "d6918777",
   "metadata": {},
   "outputs": [],
   "source": [
    "from pyro.infer import Predictive\n",
    "\n",
    "predictive = Predictive(model, guide=guide, num_samples=1000,\n",
    "                        return_sites=(\"alpha\", \"beta\", \"sigma\"))\n",
    "samples = predictive(X_train_torch, y_train_torch)"
   ]
  },
  {
   "cell_type": "code",
   "execution_count": 30,
   "id": "47b8ee11",
   "metadata": {},
   "outputs": [
    {
     "name": "stdout",
     "output_type": "stream",
     "text": [
      "CorrCoef: 0.101\n",
      "MAE: 24.671\n",
      "RMSE: 30.027\n",
      "R2: 0.000\n"
     ]
    }
   ],
   "source": [
    "alpha_samples = samples[\"alpha\"].detach().numpy()\n",
    "beta_samples = samples[\"beta\"].detach().numpy()\n",
    "y_hat = np.mean(alpha_samples.T + np.dot(X_test_n, beta_samples[:,0].T), axis=1)\n",
    "\n",
    "# convert back to the original scale\n",
    "preds = y_hat * y_std + y_mean\n",
    "y_true = y_test_n * y_std + y_mean\n",
    "\n",
    "# Training error\n",
    "y_hat_train = np.mean(alpha_samples.T + np.dot(X_train_n, beta_samples[:,0].T), axis=1)\n",
    "\n",
    "preds_train = y_hat_train * y_std + y_mean\n",
    "y_true_train = y_train_n * y_std + y_mean\n",
    "\n",
    "corr, mae, rae, rmse, r2 = compute_error(y_true, preds)\n",
    "print(\"CorrCoef: %.3f\\nMAE: %.3f\\nRMSE: %.3f\\nR2: %.3f\" % (corr, mae, rmse, r2))"
   ]
  },
  {
   "cell_type": "code",
   "execution_count": 31,
   "id": "5583f606",
   "metadata": {},
   "outputs": [
    {
     "data": {
      "text/plain": [
       "[<matplotlib.lines.Line2D at 0x7fc79a8c3390>]"
      ]
     },
     "execution_count": 31,
     "metadata": {},
     "output_type": "execute_result"
    },
    {
     "data": {
      "image/png": "[encoded data removed]",
      "text/plain": [
       "<Figure size 640x480 with 1 Axes>"
      ]
     },
     "metadata": {},
     "output_type": "display_data"
    }
   ],
   "source": [
    "plt.plot(y_true)\n",
    "plt.plot(preds)"
   ]
  },
  {
   "cell_type": "code",
   "execution_count": 32,
   "id": "b648ed39",
   "metadata": {},
   "outputs": [
    {
     "data": {
      "text/plain": [
       "[<matplotlib.lines.Line2D at 0x7fc79a509390>]"
      ]
     },
     "execution_count": 32,
     "metadata": {},
     "output_type": "execute_result"
    },
    {
     "data": {
      "image/png": "[encoded data removed]",
      "text/plain": [
       "<Figure size 640x480 with 1 Axes>"
      ]
     },
     "metadata": {},
     "output_type": "display_data"
    }
   ],
   "source": [
    "plt.plot(y_true_train)\n",
    "plt.plot(preds_train)"
   ]
  },
  {
   "cell_type": "code",
   "execution_count": 33,
   "id": "fac2b8c0",
   "metadata": {},
   "outputs": [
    {
     "name": "stdout",
     "output_type": "stream",
     "text": [
      "MAE: 0.6503008241057836\n"
     ]
    }
   ],
   "source": [
    "from sklearn import linear_model\n",
    "\n",
    "regr = linear_model.Ridge(fit_intercept=True, alpha=50000)\n",
    "regr.fit(X_train_n, y_train_n)\n",
    "preds_lr = regr.predict(X_test_n)\n",
    "\n",
    "mae = np.mean(np.abs(y_test_n-preds_lr))\n",
    "print(\"MAE:\", mae)"
   ]
  },
  {
   "cell_type": "code",
   "execution_count": 34,
   "id": "6af8fc42",
   "metadata": {},
   "outputs": [
    {
     "data": {
      "text/plain": [
       "[<matplotlib.lines.Line2D at 0x7fc79a55df50>]"
      ]
     },
     "execution_count": 34,
     "metadata": {},
     "output_type": "execute_result"
    },
    {
     "data": {
      "image/png": "[encoded data removed]",
      "text/plain": [
       "<Figure size 640x480 with 1 Axes>"
      ]
     },
     "metadata": {},
     "output_type": "display_data"
    }
   ],
   "source": [
    "plt.plot(y_test)\n",
    "plt.plot(preds_lr*y_std+y_mean)\n",
    "plt.plot(preds)"
   ]
  },
  {
   "cell_type": "markdown",
   "id": "7fe0275a",
   "metadata": {},
   "source": [
    "Bad results. Try with FNN:"
   ]
  },
  {
   "cell_type": "code",
   "execution_count": 35,
   "id": "015f6158",
   "metadata": {},
   "outputs": [],
   "source": [
    "import pyro\n",
    "import pyro.distributions as dist\n",
    "from pyro.contrib.autoguide import AutoDiagonalNormal, AutoMultivariateNormal\n",
    "from pyro.infer import MCMC, NUTS, HMC, SVI, Trace_ELBO\n",
    "from pyro.optim import Adam, ClippedAdam\n",
    "from pyro.nn import PyroModule, PyroSample\n",
    "import torch.nn as nn"
   ]
  },
  {
   "cell_type": "code",
   "execution_count": 36,
   "id": "44ef2365",
   "metadata": {},
   "outputs": [],
   "source": [
    "\n",
    "class FFNN(PyroModule):\n",
    "    def __init__(self, n_in, n_hidden, n_out):\n",
    "        super(FFNN, self).__init__()\n",
    "        \n",
    "        # Architecture\n",
    "        self.in_layer = PyroModule[nn.Linear](n_in, n_hidden)\n",
    "        self.in_layer.weight = PyroSample(dist.Normal(0., 1.).expand([n_hidden, n_in]).to_event(2))\n",
    "\n",
    "        self.h_layer = PyroModule[nn.Linear](n_hidden, n_hidden)\n",
    "        self.h_layer.weight = PyroSample(dist.Normal(0., 1.).expand([n_hidden, n_hidden]).to_event(2))\n",
    "        \n",
    "        n_hidden_2 = 100        \n",
    "        self.h_layer2 = PyroModule[nn.Linear](n_hidden, n_hidden_2)\n",
    "        self.h_layer2.weight = PyroSample(dist.Normal(0., 1.).expand([n_hidden_2, n_hidden]).to_event(2))\n",
    "        \n",
    "        n_hidden_3 = 25        \n",
    "        self.h_layer3 = PyroModule[nn.Linear](n_hidden_2, n_hidden_3)\n",
    "        self.h_layer3.weight = PyroSample(dist.Normal(0., 1.).expand([n_hidden_3, n_hidden_2]).to_event(2))\n",
    "\n",
    "        self.out_layer = PyroModule[nn.Linear](n_hidden_3, n_out)\n",
    "        self.out_layer.weight = PyroSample(dist.Normal(0., 1.).expand([n_out, n_hidden_3]).to_event(2))\n",
    "        \n",
    "#         if not (type(n_hidden) is list):\n",
    "#             n_hidden = [n_hidden]\n",
    "            \n",
    "#         self.in_layer = PyroModule[nn.Linear](n_in, n_hidden[0])\n",
    "#         self.in_layer.weight = PyroSample(dist.Normal(0., 1.).expand([n_hidden[0], n_in]).to_event(2))\n",
    "        \n",
    "#         self.hidden_layers = []\n",
    "#         for i in range(1,len(n_hidden)):\n",
    "#             print(i)\n",
    "#             tmp_h_layer = PyroModule[nn.Linear](n_hidden[i-1], n_hidden[i])\n",
    "#             tmp_h_layer.weight = PyroSample(dist.Normal(0., 1.).expand([n_hidden[i], n_hidden[i-1]]).to_event(2))\n",
    "#             self.hidden_layers.append(tmp_h_layer)\n",
    "            \n",
    "#         self.out_layer = PyroModule[nn.Linear](n_hidden[-1], n_out)\n",
    "#         self.out_layer.weight = PyroSample(dist.Normal(0., 1.).expand([n_out, n_hidden[-1]]).to_event(2))\n",
    "        \n",
    "        # Activation functions\n",
    "        self.tanh = nn.Tanh()\n",
    "        \n",
    "    def forward(self, X, y=None):\n",
    "        X = self.tanh(self.in_layer(X))\n",
    "        \n",
    "#         for i in range(len(self.hidden_layers)):\n",
    "#             X = self.tanh(self.hidden_layers[i](X))\n",
    "        \n",
    "        X = self.tanh(self.h_layer(X))\n",
    "        \n",
    "        X = self.tanh(self.h_layer2(X))\n",
    "        \n",
    "        X = self.tanh(self.h_layer3(X))\n",
    "\n",
    "        \n",
    "        X = self.out_layer(X)\n",
    "        prediction_mean = X.squeeze(-1)\n",
    "        with pyro.plate(\"observations\"):\n",
    "            y = pyro.sample(\"obs\", dist.Normal(prediction_mean, 0.1), obs=y)\n",
    "            \n",
    "        return y"
   ]
  },
  {
   "cell_type": "code",
   "execution_count": 37,
   "id": "9c344dcf",
   "metadata": {},
   "outputs": [],
   "source": [
    "# Define guide function\n",
    "model = FFNN(n_in=X_train.shape[1], n_hidden=40, n_out=1)\n",
    "guide = AutoDiagonalNormal(model)\n",
    "pyro.clear_param_store()"
   ]
  },
  {
   "cell_type": "code",
   "execution_count": null,
   "id": "f74ce260",
   "metadata": {},
   "outputs": [
    {
     "name": "stdout",
     "output_type": "stream",
     "text": [
      "[0] ELBO: 24807588.6\n",
      "[500] ELBO: 10149876.0\n",
      "[1000] ELBO: 9719796.3\n",
      "[1500] ELBO: 9304597.0\n",
      "[2000] ELBO: 8871811.8\n",
      "[2500] ELBO: 8357964.6\n",
      "[3000] ELBO: 7943323.7\n",
      "[3500] ELBO: 7503858.6\n",
      "[4000] ELBO: 7164994.4\n",
      "[4500] ELBO: 6917806.1\n",
      "[5000] ELBO: 6704801.1\n",
      "[5500] ELBO: 6538099.4\n",
      "[6000] ELBO: 6397371.5\n",
      "[6500] ELBO: 6335480.2\n",
      "[7000] ELBO: 6293655.5\n",
      "[7500] ELBO: 6216661.4\n",
      "[8000] ELBO: 6168064.0\n",
      "[8500] ELBO: 6123202.2\n",
      "[9000] ELBO: 6089312.3\n"
     ]
    }
   ],
   "source": [
    "# Define the number of optimization steps\n",
    "n_steps = 10000\n",
    "\n",
    "# Setup the optimizer\n",
    "adam_params = {\"lr\": 0.01}\n",
    "optimizer = Adam(adam_params)\n",
    "\n",
    "# Setup the inference algorithm\n",
    "elbo = Trace_ELBO(num_particles=1)\n",
    "svi = SVI(model, guide, optimizer, loss=elbo)\n",
    "\n",
    "# Do gradient steps\n",
    "for step in range(n_steps):\n",
    "    elbo = svi.step(X_train_torch, y_train_torch)\n",
    "    if step % 500 == 0:\n",
    "        print(\"[%d] ELBO: %.1f\" % (step, elbo))"
   ]
  },
  {
   "cell_type": "code",
   "execution_count": null,
   "id": "1108a7ea",
   "metadata": {},
   "outputs": [],
   "source": [
    "# Prepare test data for Pyro\n",
    "X_test = torch.tensor(X_test_n).float()"
   ]
  },
  {
   "cell_type": "code",
   "execution_count": null,
   "id": "d73f78f4",
   "metadata": {},
   "outputs": [],
   "source": [
    "# Make predictions for test set\n",
    "predictive = Predictive(model, guide=guide, num_samples=1000,\n",
    "                        return_sites=(\"obs\", \"_RETURN\"))\n",
    "samples = predictive(X_test)"
   ]
  },
  {
   "cell_type": "code",
   "execution_count": null,
   "id": "6fd07782",
   "metadata": {},
   "outputs": [],
   "source": [
    "y_pred = samples[\"obs\"].mean(axis=0).detach().numpy()\n",
    "mae = np.mean(np.abs(y_test_n - y_pred))\n",
    "print(\"MAE:\", mae)"
   ]
  },
  {
   "cell_type": "code",
   "execution_count": null,
   "id": "fe2fd01f",
   "metadata": {},
   "outputs": [],
   "source": [
    "plt.plot(y_test)\n",
    "plt.plot(y_pred*y_std+y_mean)"
   ]
  },
  {
   "cell_type": "code",
   "execution_count": null,
   "id": "3ada728c",
   "metadata": {},
   "outputs": [],
   "source": []
  },
  {
   "cell_type": "markdown",
   "id": "00f9563f",
   "metadata": {},
   "source": [
    "cv"
   ]
  },
  {
   "cell_type": "code",
   "execution_count": null,
   "id": "570c6014",
   "metadata": {},
   "outputs": [],
   "source": [
    "lambdas = np.logspace(0,2,5)"
   ]
  },
  {
   "cell_type": "code",
   "execution_count": null,
   "id": "f618635b",
   "metadata": {},
   "outputs": [],
   "source": []
  }
 ],
 "metadata": {
  "kernelspec": {
   "display_name": "Python 3 (ipykernel)",
   "language": "python",
   "name": "python3"
  },
  "language_info": {
   "codemirror_mode": {
    "name": "ipython",
    "version": 3
   },
   "file_extension": ".py",
   "mimetype": "text/x-python",
   "name": "python",
   "nbconvert_exporter": "python",
   "pygments_lexer": "ipython3",
   "version": "3.11.0"
  }
 },
 "nbformat": 4,
 "nbformat_minor": 5
}
